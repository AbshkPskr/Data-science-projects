{
  "nbformat": 4,
  "nbformat_minor": 0,
  "metadata": {
    "colab": {
      "name": "COVID-19 Analysis.ipynb",
      "provenance": [],
      "collapsed_sections": [],
      "authorship_tag": "ABX9TyM38cI8iYSlhjyxbteDWUK6",
      "include_colab_link": true
    },
    "kernelspec": {
      "name": "python3",
      "display_name": "Python 3"
    }
  },
  "cells": [
    {
      "cell_type": "markdown",
      "metadata": {
        "id": "view-in-github",
        "colab_type": "text"
      },
      "source": [
        "<a href=\"https://colab.research.google.com/github/AbshkPskr/Data-science-projects/blob/master/COVID_19_Analysis.ipynb\" target=\"_parent\"><img src=\"https://colab.research.google.com/assets/colab-badge.svg\" alt=\"Open In Colab\"/></a>"
      ]
    },
    {
      "cell_type": "markdown",
      "metadata": {
        "id": "B80Nnf72TE-5",
        "colab_type": "text"
      },
      "source": [
        "#Analysis of coronavirus pandemic"
      ]
    },
    {
      "cell_type": "markdown",
      "metadata": {
        "id": "pcLlDbUnUdVE",
        "colab_type": "text"
      },
      "source": [
        "##Collecting data\n",
        "__ write about from where the data is collected\n",
        "<br>__ explain data\n",
        "<br>__ expain each attribute"
      ]
    },
    {
      "cell_type": "code",
      "metadata": {
        "id": "Bbg1IAofTO0Q",
        "colab_type": "code",
        "outputId": "71485e1a-1ad8-4627-f1e9-4278134eef0a",
        "colab": {
          "base_uri": "https://localhost:8080/",
          "height": 50
        }
      },
      "source": [
        "import json\n",
        "token = {\"username\":\"abshkpskr\",\"key\":\"7bf37d08aafdc81ecb2640a1960fddbc\"}\n",
        "with open('kaggle.json', 'w') as file:\n",
        "    json.dump(token, file)\n",
        "\n",
        "!mkdir ~/.kaggle\n",
        "!cp kaggle.json ~/.kaggle/\n",
        "!chmod 600 ~/.kaggle/kaggle.json\n",
        "!kaggle datasets download -d sudalairajkumar/novel-corona-virus-2019-dataset"
      ],
      "execution_count": 15,
      "outputs": [
        {
          "output_type": "stream",
          "text": [
            "mkdir: cannot create directory ‘/root/.kaggle’: File exists\n",
            "novel-corona-virus-2019-dataset.zip: Skipping, found more recently modified local copy (use --force to force download)\n"
          ],
          "name": "stdout"
        }
      ]
    },
    {
      "cell_type": "code",
      "metadata": {
        "id": "F7ouPV1KTQmW",
        "colab_type": "code",
        "outputId": "4ff50c50-e4d4-493e-866b-3fcc24568be3",
        "colab": {
          "base_uri": "https://localhost:8080/",
          "height": 228
        }
      },
      "source": [
        "from zipfile import ZipFile\n",
        "ZipFile('novel-corona-virus-2019-dataset.zip').extractall()\n",
        "\n",
        "import os\n",
        "for i in sorted(os.listdir()):\n",
        "    print(i)"
      ],
      "execution_count": 16,
      "outputs": [
        {
          "output_type": "stream",
          "text": [
            ".config\n",
            ".ipynb_checkpoints\n",
            "COVID19_line_list_data.csv\n",
            "COVID19_open_line_list.csv\n",
            "covid_19_data.csv\n",
            "kaggle.json\n",
            "novel-corona-virus-2019-dataset.zip\n",
            "sample_data\n",
            "time_series_covid_19_confirmed.csv\n",
            "time_series_covid_19_confirmed_US.csv\n",
            "time_series_covid_19_deaths.csv\n",
            "time_series_covid_19_deaths_US.csv\n",
            "time_series_covid_19_recovered.csv\n"
          ],
          "name": "stdout"
        }
      ]
    },
    {
      "cell_type": "code",
      "metadata": {
        "id": "baqS3qd4TX9X",
        "colab_type": "code",
        "colab": {
          "base_uri": "https://localhost:8080/",
          "height": 70
        },
        "outputId": "be28cd77-c760-4181-d04a-8a9d595d829f"
      },
      "source": [
        "#libraries for data management\n",
        "import numpy as np\n",
        "import pandas as pd\n",
        "\n",
        "#libraries for visualization\n",
        "import matplotlib.pyplot as plt\n",
        "import seaborn as sns\n",
        "import plotly.express as px\n",
        "import plotly.graph_objs as go\n",
        "import folium \n",
        "from plotly.offline import plot\n",
        "from IPython.display import HTML"
      ],
      "execution_count": 17,
      "outputs": [
        {
          "output_type": "stream",
          "text": [
            "/usr/local/lib/python3.6/dist-packages/statsmodels/tools/_testing.py:19: FutureWarning: pandas.util.testing is deprecated. Use the functions in the public API at pandas.testing instead.\n",
            "  import pandas.util.testing as tm\n"
          ],
          "name": "stderr"
        }
      ]
    },
    {
      "cell_type": "code",
      "metadata": {
        "id": "dSVQ-KfiTevy",
        "colab_type": "code",
        "colab": {}
      },
      "source": [
        "df = pd.read_csv(\"https://raw.githubusercontent.com/owid/covid-19-data/master/public/data/owid-covid-data.csv\")\n",
        "\n",
        "data = pd.read_csv('covid_19_data.csv',index_col = 'SNo')\n",
        "case_confirmed = pd.read_csv('time_series_covid_19_confirmed.csv')\n",
        "case_deaths = pd.read_csv('time_series_covid_19_deaths.csv')\n",
        "case_recovered = pd.read_csv('time_series_covid_19_recovered.csv')"
      ],
      "execution_count": 0,
      "outputs": []
    },
    {
      "cell_type": "code",
      "metadata": {
        "id": "OF5EK14r6a9r",
        "colab_type": "code",
        "colab": {}
      },
      "source": [
        "data = data.drop('Last Update',axis = 1)\n",
        "data = data.fillna('unknown')\n",
        "\n",
        "data['Active'] = data['Confirmed'] - (data['Deaths'] + data['Recovered'])\n",
        "data['Mortality Rate'] = (data['Deaths']/data['Confirmed'])*100"
      ],
      "execution_count": 0,
      "outputs": []
    },
    {
      "cell_type": "code",
      "metadata": {
        "id": "iPKicDUaTgNp",
        "colab_type": "code",
        "colab": {}
      },
      "source": [
        "case_data = pd.DataFrame()\n",
        "\n",
        "country_state = data.groupby(['Country/Region','Province/State']).size().reset_index(name = 'a').drop('a',1)\n",
        "\n",
        "for country,state in country_state.values:\n",
        "    temp = data[(data['Country/Region'] == country) & (data['Province/State'] == state)]\n",
        "    temp1 = pd.DataFrame()\n",
        "    temp1  = temp1.append(temp.iloc[0:1,:],ignore_index=True)\n",
        "    temp1['new_confirmed'] = 0.0\n",
        "    temp1['new_deaths'] = 0.0\n",
        "    temp1['new_recovered'] = 0.0\n",
        "    for i in range(1,len(temp)):\n",
        "        date,sta,ctr,confirmed,deaths,recovered,active,mrate  = temp.iloc[i].values\n",
        "        new_confirmed = temp.iloc[i,3] - temp.iloc[i-1,3]\n",
        "        new_deaths = temp.iloc[i,4] - temp.iloc[i-1,4]\n",
        "        new_recovered = temp.iloc[i,5] - temp.iloc[i-1,5]\n",
        "        if new_confirmed < 0:\n",
        "            confirmed = temp.iloc[i-1][3]\n",
        "            new_confirmed = 0\n",
        "        if new_deaths < 0:\n",
        "            deaths = temp.iloc[i-1][4]\n",
        "            new_deaths = 0\n",
        "        if new_recovered < 0:\n",
        "            recovered = temp.iloc[i-1][5]\n",
        "            new_recovered = 0\n",
        "        temp1.loc[i] = [date,sta,ctr,confirmed,deaths,recovered,active,mrate,new_confirmed,new_deaths,new_recovered]\n",
        "    case_data = pd.concat([case_data,temp1],ignore_index=True)\n",
        "\n",
        "#case_data\n"
      ],
      "execution_count": 0,
      "outputs": []
    },
    {
      "cell_type": "code",
      "metadata": {
        "id": "6orlgXw_BDtD",
        "colab_type": "code",
        "colab": {}
      },
      "source": [
        "case_data['ObservationDate'] = pd.to_datetime(case_data['ObservationDate'])\n",
        "case_data['Confirmed']  = case_data['Confirmed'].astype('int')\n",
        "case_data['Deaths']  = case_data['Deaths'].astype('int')\n",
        "case_data['Recovered']  = case_data['Recovered'].astype('int')\n",
        "case_data['Active']  = case_data['Active'].astype('int')\n",
        "case_data['new_confirmed']  = case_data['new_confirmed'].astype('int')\n",
        "case_data['new_deaths']  = case_data['new_deaths'].astype('int')\n",
        "case_data['new_recovered']  = case_data['new_recovered'].astype('int')"
      ],
      "execution_count": 0,
      "outputs": []
    },
    {
      "cell_type": "markdown",
      "metadata": {
        "id": "Us6yxRyIUGhx",
        "colab_type": "text"
      },
      "source": [
        "##Data analysis\n",
        "__ tell story with data as the whole \n",
        "<br>__ draw graphs and charts to extract insights.\n",
        "<br>__ do indepth analysis \n",
        "<br>__ explain different terms like mortality rate, death rate, crude mortality rate etc.\n"
      ]
    },
    {
      "cell_type": "markdown",
      "metadata": {
        "id": "vt-NvYZyjAXJ",
        "colab_type": "text"
      },
      "source": [
        "###General Analysis"
      ]
    },
    {
      "cell_type": "code",
      "metadata": {
        "id": "weIiVoJDsX6i",
        "colab_type": "code",
        "colab": {}
      },
      "source": [
        "country_case_data = case_data.groupby(['Country/Region','ObservationDate'])['Confirmed','Deaths','Recovered','Active'].sum().reset_index()\n",
        "country_case_data = country_case_data.groupby('Country/Region')['Confirmed','Deaths','Recovered','Active'].max()\n",
        "\n",
        "country_case_data.sort_values('Confirmed', ascending= False).style.background_gradient(cmap='Blues',subset=[\"Confirmed\"])\\\n",
        ".background_gradient(cmap='Reds',subset=[\"Deaths\"])\\\n",
        ".background_gradient(cmap='Greens',subset=[\"Recovered\"])\\\n",
        ".background_gradient(cmap='Purples',subset=[\"Active\"])"
      ],
      "execution_count": 0,
      "outputs": []
    },
    {
      "cell_type": "code",
      "metadata": {
        "id": "CVTMt039gWg3",
        "colab_type": "code",
        "outputId": "34a8fc9a-994b-48f6-b762-fe479d0bc30a",
        "colab": {
          "base_uri": "https://localhost:8080/",
          "height": 537
        }
      },
      "source": [
        "from bokeh.io import output_file, show, output_notebook,curdoc\n",
        "from bokeh.plotting import figure\n",
        "from bokeh.models import ColumnDataSource, HoverTool, layouts, BoxAnnotation\n",
        "\n",
        "\n",
        "def tooltip(attr,color):\n",
        "    return \"\"\"\n",
        "    <div style =\"background-color:\"\"\"+ color +\"\"\";\">         \n",
        "        <div>\n",
        "            <span style=\"font-size: 15px; color: white;font-family:century gothic;\">@\"\"\" + attr + \"\"\"{0,000} \"\"\" + attr + \"\"\"</span>\n",
        "        </div>\n",
        "    </div>\"\"\"\n",
        "\n",
        "world_cumulative = pd.DataFrame(case_data.groupby(['ObservationDate']).sum())\n",
        "\n",
        "curdoc().theme = 'caliber'\n",
        "plot = figure(title='Population Graph of India and Pakistan', x_axis_label='Month', y_axis_label='Number of cases in Lakhs',\n",
        "              x_axis_type='datetime',y_axis_type='mercator',\n",
        "              sizing_mode='stretch_both', plot_height=500)#, plot_width=980)\n",
        "p1 = plot.line(x='ObservationDate', y = 'Confirmed', line_width=3, line_color='blue', legend_label='Confirmed',source = world_cumulative)\n",
        "p2 = plot.line(x='ObservationDate', y = 'Deaths', line_width=3, line_color='red', legend_label='Deaths',source = world_cumulative)\n",
        "p3 = plot.line(x='ObservationDate', y = 'Recovered', line_width=3, line_color='green', legend_label='Recovered',source = world_cumulative)\n",
        "p4 = plot.line(x='ObservationDate', y = 'Active', line_width=3, line_color='purple', legend_label='Active',source = world_cumulative)\n",
        "plot.add_tools(HoverTool(renderers=[p2], tooltips=tooltip('Deaths','red'),mode='vline'))\n",
        "plot.add_tools(HoverTool(renderers=[p3], tooltips=tooltip('Recovered','green'),mode='vline'))\n",
        "plot.add_tools(HoverTool(renderers=[p4], tooltips=tooltip('Active','purple'),mode='vline'))\n",
        "plot.add_tools(HoverTool(renderers=[p1], tooltips=tooltip('Confirmed','blue'),mode='vline'))\n",
        "plot.legend.location = 'top_left'\n",
        "plot.left[0].formatter.use_scientific = False\n",
        "low_box = BoxAnnotation(fill_color=\"Blue\")\n",
        "plot.add_layout(low_box)\n",
        "\n",
        "output_notebook(show(plot))"
      ],
      "execution_count": 98,
      "outputs": [
        {
          "output_type": "display_data",
          "data": {
            "application/javascript": [
              "\n",
              "(function(root) {\n",
              "  function now() {\n",
              "    return new Date();\n",
              "  }\n",
              "\n",
              "  var force = true;\n",
              "\n",
              "  if (typeof root._bokeh_onload_callbacks === \"undefined\" || force === true) {\n",
              "    root._bokeh_onload_callbacks = [];\n",
              "    root._bokeh_is_loading = undefined;\n",
              "  }\n",
              "\n",
              "  var JS_MIME_TYPE = 'application/javascript';\n",
              "  var HTML_MIME_TYPE = 'text/html';\n",
              "  var EXEC_MIME_TYPE = 'application/vnd.bokehjs_exec.v0+json';\n",
              "  var CLASS_NAME = 'output_bokeh rendered_html';\n",
              "\n",
              "  /**\n",
              "   * Render data to the DOM node\n",
              "   */\n",
              "  function render(props, node) {\n",
              "    var script = document.createElement(\"script\");\n",
              "    node.appendChild(script);\n",
              "  }\n",
              "\n",
              "  /**\n",
              "   * Handle when an output is cleared or removed\n",
              "   */\n",
              "  function handleClearOutput(event, handle) {\n",
              "    var cell = handle.cell;\n",
              "\n",
              "    var id = cell.output_area._bokeh_element_id;\n",
              "    var server_id = cell.output_area._bokeh_server_id;\n",
              "    // Clean up Bokeh references\n",
              "    if (id != null && id in Bokeh.index) {\n",
              "      Bokeh.index[id].model.document.clear();\n",
              "      delete Bokeh.index[id];\n",
              "    }\n",
              "\n",
              "    if (server_id !== undefined) {\n",
              "      // Clean up Bokeh references\n",
              "      var cmd = \"from bokeh.io.state import curstate; print(curstate().uuid_to_server['\" + server_id + \"'].get_sessions()[0].document.roots[0]._id)\";\n",
              "      cell.notebook.kernel.execute(cmd, {\n",
              "        iopub: {\n",
              "          output: function(msg) {\n",
              "            var id = msg.content.text.trim();\n",
              "            if (id in Bokeh.index) {\n",
              "              Bokeh.index[id].model.document.clear();\n",
              "              delete Bokeh.index[id];\n",
              "            }\n",
              "          }\n",
              "        }\n",
              "      });\n",
              "      // Destroy server and session\n",
              "      var cmd = \"import bokeh.io.notebook as ion; ion.destroy_server('\" + server_id + \"')\";\n",
              "      cell.notebook.kernel.execute(cmd);\n",
              "    }\n",
              "  }\n",
              "\n",
              "  /**\n",
              "   * Handle when a new output is added\n",
              "   */\n",
              "  function handleAddOutput(event, handle) {\n",
              "    var output_area = handle.output_area;\n",
              "    var output = handle.output;\n",
              "\n",
              "    // limit handleAddOutput to display_data with EXEC_MIME_TYPE content only\n",
              "    if ((output.output_type != \"display_data\") || (!output.data.hasOwnProperty(EXEC_MIME_TYPE))) {\n",
              "      return\n",
              "    }\n",
              "\n",
              "    var toinsert = output_area.element.find(\".\" + CLASS_NAME.split(' ')[0]);\n",
              "\n",
              "    if (output.metadata[EXEC_MIME_TYPE][\"id\"] !== undefined) {\n",
              "      toinsert[toinsert.length - 1].firstChild.textContent = output.data[JS_MIME_TYPE];\n",
              "      // store reference to embed id on output_area\n",
              "      output_area._bokeh_element_id = output.metadata[EXEC_MIME_TYPE][\"id\"];\n",
              "    }\n",
              "    if (output.metadata[EXEC_MIME_TYPE][\"server_id\"] !== undefined) {\n",
              "      var bk_div = document.createElement(\"div\");\n",
              "      bk_div.innerHTML = output.data[HTML_MIME_TYPE];\n",
              "      var script_attrs = bk_div.children[0].attributes;\n",
              "      for (var i = 0; i < script_attrs.length; i++) {\n",
              "        toinsert[toinsert.length - 1].firstChild.setAttribute(script_attrs[i].name, script_attrs[i].value);\n",
              "      }\n",
              "      // store reference to server id on output_area\n",
              "      output_area._bokeh_server_id = output.metadata[EXEC_MIME_TYPE][\"server_id\"];\n",
              "    }\n",
              "  }\n",
              "\n",
              "  function register_renderer(events, OutputArea) {\n",
              "\n",
              "    function append_mime(data, metadata, element) {\n",
              "      // create a DOM node to render to\n",
              "      var toinsert = this.create_output_subarea(\n",
              "        metadata,\n",
              "        CLASS_NAME,\n",
              "        EXEC_MIME_TYPE\n",
              "      );\n",
              "      this.keyboard_manager.register_events(toinsert);\n",
              "      // Render to node\n",
              "      var props = {data: data, metadata: metadata[EXEC_MIME_TYPE]};\n",
              "      render(props, toinsert[toinsert.length - 1]);\n",
              "      element.append(toinsert);\n",
              "      return toinsert\n",
              "    }\n",
              "\n",
              "    /* Handle when an output is cleared or removed */\n",
              "    events.on('clear_output.CodeCell', handleClearOutput);\n",
              "    events.on('delete.Cell', handleClearOutput);\n",
              "\n",
              "    /* Handle when a new output is added */\n",
              "    events.on('output_added.OutputArea', handleAddOutput);\n",
              "\n",
              "    /**\n",
              "     * Register the mime type and append_mime function with output_area\n",
              "     */\n",
              "    OutputArea.prototype.register_mime_type(EXEC_MIME_TYPE, append_mime, {\n",
              "      /* Is output safe? */\n",
              "      safe: true,\n",
              "      /* Index of renderer in `output_area.display_order` */\n",
              "      index: 0\n",
              "    });\n",
              "  }\n",
              "\n",
              "  // register the mime type if in Jupyter Notebook environment and previously unregistered\n",
              "  if (root.Jupyter !== undefined) {\n",
              "    var events = require('base/js/events');\n",
              "    var OutputArea = require('notebook/js/outputarea').OutputArea;\n",
              "\n",
              "    if (OutputArea.prototype.mime_types().indexOf(EXEC_MIME_TYPE) == -1) {\n",
              "      register_renderer(events, OutputArea);\n",
              "    }\n",
              "  }\n",
              "\n",
              "  \n",
              "  if (typeof (root._bokeh_timeout) === \"undefined\" || force === true) {\n",
              "    root._bokeh_timeout = Date.now() + 5000;\n",
              "    root._bokeh_failed_load = false;\n",
              "  }\n",
              "\n",
              "  var NB_LOAD_WARNING = {'data': {'text/html':\n",
              "     \"<div style='background-color: #fdd'>\\n\"+\n",
              "     \"<p>\\n\"+\n",
              "     \"BokehJS does not appear to have successfully loaded. If loading BokehJS from CDN, this \\n\"+\n",
              "     \"may be due to a slow or bad network connection. Possible fixes:\\n\"+\n",
              "     \"</p>\\n\"+\n",
              "     \"<ul>\\n\"+\n",
              "     \"<li>re-rerun `output_notebook()` to attempt to load from CDN again, or</li>\\n\"+\n",
              "     \"<li>use INLINE resources instead, as so:</li>\\n\"+\n",
              "     \"</ul>\\n\"+\n",
              "     \"<code>\\n\"+\n",
              "     \"from bokeh.resources import INLINE\\n\"+\n",
              "     \"output_notebook(resources=INLINE)\\n\"+\n",
              "     \"</code>\\n\"+\n",
              "     \"</div>\"}};\n",
              "\n",
              "  function display_loaded() {\n",
              "    var el = document.getElementById(null);\n",
              "    if (el != null) {\n",
              "      el.textContent = \"BokehJS is loading...\";\n",
              "    }\n",
              "    if (root.Bokeh !== undefined) {\n",
              "      if (el != null) {\n",
              "        el.textContent = \"BokehJS \" + root.Bokeh.version + \" successfully loaded.\";\n",
              "      }\n",
              "    } else if (Date.now() < root._bokeh_timeout) {\n",
              "      setTimeout(display_loaded, 100)\n",
              "    }\n",
              "  }\n",
              "\n",
              "\n",
              "  function run_callbacks() {\n",
              "    try {\n",
              "      root._bokeh_onload_callbacks.forEach(function(callback) {\n",
              "        if (callback != null)\n",
              "          callback();\n",
              "      });\n",
              "    } finally {\n",
              "      delete root._bokeh_onload_callbacks\n",
              "    }\n",
              "    console.debug(\"Bokeh: all callbacks have finished\");\n",
              "  }\n",
              "\n",
              "  function load_libs(css_urls, js_urls, callback) {\n",
              "    if (css_urls == null) css_urls = [];\n",
              "    if (js_urls == null) js_urls = [];\n",
              "\n",
              "    root._bokeh_onload_callbacks.push(callback);\n",
              "    if (root._bokeh_is_loading > 0) {\n",
              "      console.debug(\"Bokeh: BokehJS is being loaded, scheduling callback at\", now());\n",
              "      return null;\n",
              "    }\n",
              "    if (js_urls == null || js_urls.length === 0) {\n",
              "      run_callbacks();\n",
              "      return null;\n",
              "    }\n",
              "    console.debug(\"Bokeh: BokehJS not loaded, scheduling load and callback at\", now());\n",
              "    root._bokeh_is_loading = css_urls.length + js_urls.length;\n",
              "\n",
              "    function on_load() {\n",
              "      root._bokeh_is_loading--;\n",
              "      if (root._bokeh_is_loading === 0) {\n",
              "        console.debug(\"Bokeh: all BokehJS libraries/stylesheets loaded\");\n",
              "        run_callbacks()\n",
              "      }\n",
              "    }\n",
              "\n",
              "    function on_error() {\n",
              "      console.error(\"failed to load \" + url);\n",
              "    }\n",
              "\n",
              "    for (var i = 0; i < css_urls.length; i++) {\n",
              "      var url = css_urls[i];\n",
              "      const element = document.createElement(\"link\");\n",
              "      element.onload = on_load;\n",
              "      element.onerror = on_error;\n",
              "      element.rel = \"stylesheet\";\n",
              "      element.type = \"text/css\";\n",
              "      element.href = url;\n",
              "      console.debug(\"Bokeh: injecting link tag for BokehJS stylesheet: \", url);\n",
              "      document.body.appendChild(element);\n",
              "    }\n",
              "\n",
              "    for (var i = 0; i < js_urls.length; i++) {\n",
              "      var url = js_urls[i];\n",
              "      var element = document.createElement('script');\n",
              "      element.onload = on_load;\n",
              "      element.onerror = on_error;\n",
              "      element.async = false;\n",
              "      element.src = url;\n",
              "      console.debug(\"Bokeh: injecting script tag for BokehJS library: \", url);\n",
              "      document.head.appendChild(element);\n",
              "    }\n",
              "  };\n",
              "\n",
              "  function inject_raw_css(css) {\n",
              "    const element = document.createElement(\"style\");\n",
              "    element.appendChild(document.createTextNode(css));\n",
              "    document.body.appendChild(element);\n",
              "  }\n",
              "\n",
              "  \n",
              "  var js_urls = [\"https://cdn.pydata.org/bokeh/release/bokeh-1.4.0.min.js\", \"https://cdn.pydata.org/bokeh/release/bokeh-widgets-1.4.0.min.js\", \"https://cdn.pydata.org/bokeh/release/bokeh-tables-1.4.0.min.js\", \"https://cdn.pydata.org/bokeh/release/bokeh-gl-1.4.0.min.js\"];\n",
              "  var css_urls = [];\n",
              "  \n",
              "\n",
              "  var inline_js = [\n",
              "    function(Bokeh) {\n",
              "      Bokeh.set_log_level(\"info\");\n",
              "    },\n",
              "    function(Bokeh) {\n",
              "    \n",
              "    \n",
              "    }\n",
              "  ];\n",
              "\n",
              "  function run_inline_js() {\n",
              "    \n",
              "    if (root.Bokeh !== undefined || force === true) {\n",
              "      \n",
              "    for (var i = 0; i < inline_js.length; i++) {\n",
              "      inline_js[i].call(root, root.Bokeh);\n",
              "    }\n",
              "    } else if (Date.now() < root._bokeh_timeout) {\n",
              "      setTimeout(run_inline_js, 100);\n",
              "    } else if (!root._bokeh_failed_load) {\n",
              "      console.log(\"Bokeh: BokehJS failed to load within specified timeout.\");\n",
              "      root._bokeh_failed_load = true;\n",
              "    } else if (force !== true) {\n",
              "      var cell = $(document.getElementById(null)).parents('.cell').data().cell;\n",
              "      cell.output_area.append_execute_result(NB_LOAD_WARNING)\n",
              "    }\n",
              "\n",
              "  }\n",
              "\n",
              "  if (root._bokeh_is_loading === 0) {\n",
              "    console.debug(\"Bokeh: BokehJS loaded, going straight to plotting\");\n",
              "    run_inline_js();\n",
              "  } else {\n",
              "    load_libs(css_urls, js_urls, function() {\n",
              "      console.debug(\"Bokeh: BokehJS plotting callback run at\", now());\n",
              "      run_inline_js();\n",
              "    });\n",
              "  }\n",
              "}(window));"
            ],
            "application/vnd.bokehjs_load.v0+json": "\n(function(root) {\n  function now() {\n    return new Date();\n  }\n\n  var force = true;\n\n  if (typeof root._bokeh_onload_callbacks === \"undefined\" || force === true) {\n    root._bokeh_onload_callbacks = [];\n    root._bokeh_is_loading = undefined;\n  }\n\n  \n\n  \n  if (typeof (root._bokeh_timeout) === \"undefined\" || force === true) {\n    root._bokeh_timeout = Date.now() + 5000;\n    root._bokeh_failed_load = false;\n  }\n\n  var NB_LOAD_WARNING = {'data': {'text/html':\n     \"<div style='background-color: #fdd'>\\n\"+\n     \"<p>\\n\"+\n     \"BokehJS does not appear to have successfully loaded. If loading BokehJS from CDN, this \\n\"+\n     \"may be due to a slow or bad network connection. Possible fixes:\\n\"+\n     \"</p>\\n\"+\n     \"<ul>\\n\"+\n     \"<li>re-rerun `output_notebook()` to attempt to load from CDN again, or</li>\\n\"+\n     \"<li>use INLINE resources instead, as so:</li>\\n\"+\n     \"</ul>\\n\"+\n     \"<code>\\n\"+\n     \"from bokeh.resources import INLINE\\n\"+\n     \"output_notebook(resources=INLINE)\\n\"+\n     \"</code>\\n\"+\n     \"</div>\"}};\n\n  function display_loaded() {\n    var el = document.getElementById(null);\n    if (el != null) {\n      el.textContent = \"BokehJS is loading...\";\n    }\n    if (root.Bokeh !== undefined) {\n      if (el != null) {\n        el.textContent = \"BokehJS \" + root.Bokeh.version + \" successfully loaded.\";\n      }\n    } else if (Date.now() < root._bokeh_timeout) {\n      setTimeout(display_loaded, 100)\n    }\n  }\n\n\n  function run_callbacks() {\n    try {\n      root._bokeh_onload_callbacks.forEach(function(callback) {\n        if (callback != null)\n          callback();\n      });\n    } finally {\n      delete root._bokeh_onload_callbacks\n    }\n    console.debug(\"Bokeh: all callbacks have finished\");\n  }\n\n  function load_libs(css_urls, js_urls, callback) {\n    if (css_urls == null) css_urls = [];\n    if (js_urls == null) js_urls = [];\n\n    root._bokeh_onload_callbacks.push(callback);\n    if (root._bokeh_is_loading > 0) {\n      console.debug(\"Bokeh: BokehJS is being loaded, scheduling callback at\", now());\n      return null;\n    }\n    if (js_urls == null || js_urls.length === 0) {\n      run_callbacks();\n      return null;\n    }\n    console.debug(\"Bokeh: BokehJS not loaded, scheduling load and callback at\", now());\n    root._bokeh_is_loading = css_urls.length + js_urls.length;\n\n    function on_load() {\n      root._bokeh_is_loading--;\n      if (root._bokeh_is_loading === 0) {\n        console.debug(\"Bokeh: all BokehJS libraries/stylesheets loaded\");\n        run_callbacks()\n      }\n    }\n\n    function on_error() {\n      console.error(\"failed to load \" + url);\n    }\n\n    for (var i = 0; i < css_urls.length; i++) {\n      var url = css_urls[i];\n      const element = document.createElement(\"link\");\n      element.onload = on_load;\n      element.onerror = on_error;\n      element.rel = \"stylesheet\";\n      element.type = \"text/css\";\n      element.href = url;\n      console.debug(\"Bokeh: injecting link tag for BokehJS stylesheet: \", url);\n      document.body.appendChild(element);\n    }\n\n    for (var i = 0; i < js_urls.length; i++) {\n      var url = js_urls[i];\n      var element = document.createElement('script');\n      element.onload = on_load;\n      element.onerror = on_error;\n      element.async = false;\n      element.src = url;\n      console.debug(\"Bokeh: injecting script tag for BokehJS library: \", url);\n      document.head.appendChild(element);\n    }\n  };\n\n  function inject_raw_css(css) {\n    const element = document.createElement(\"style\");\n    element.appendChild(document.createTextNode(css));\n    document.body.appendChild(element);\n  }\n\n  \n  var js_urls = [\"https://cdn.pydata.org/bokeh/release/bokeh-1.4.0.min.js\", \"https://cdn.pydata.org/bokeh/release/bokeh-widgets-1.4.0.min.js\", \"https://cdn.pydata.org/bokeh/release/bokeh-tables-1.4.0.min.js\", \"https://cdn.pydata.org/bokeh/release/bokeh-gl-1.4.0.min.js\"];\n  var css_urls = [];\n  \n\n  var inline_js = [\n    function(Bokeh) {\n      Bokeh.set_log_level(\"info\");\n    },\n    function(Bokeh) {\n    \n    \n    }\n  ];\n\n  function run_inline_js() {\n    \n    if (root.Bokeh !== undefined || force === true) {\n      \n    for (var i = 0; i < inline_js.length; i++) {\n      inline_js[i].call(root, root.Bokeh);\n    }\n    } else if (Date.now() < root._bokeh_timeout) {\n      setTimeout(run_inline_js, 100);\n    } else if (!root._bokeh_failed_load) {\n      console.log(\"Bokeh: BokehJS failed to load within specified timeout.\");\n      root._bokeh_failed_load = true;\n    } else if (force !== true) {\n      var cell = $(document.getElementById(null)).parents('.cell').data().cell;\n      cell.output_area.append_execute_result(NB_LOAD_WARNING)\n    }\n\n  }\n\n  if (root._bokeh_is_loading === 0) {\n    console.debug(\"Bokeh: BokehJS loaded, going straight to plotting\");\n    run_inline_js();\n  } else {\n    load_libs(css_urls, js_urls, function() {\n      console.debug(\"Bokeh: BokehJS plotting callback run at\", now());\n      run_inline_js();\n    });\n  }\n}(window));"
          },
          "metadata": {
            "tags": []
          }
        },
        {
          "output_type": "display_data",
          "data": {
            "text/html": [
              "\n",
              "\n",
              "\n",
              "\n",
              "\n",
              "\n",
              "  <div class=\"bk-root\" id=\"5a544f36-94e1-4c6a-9658-0a12850d98f5\" data-root-id=\"61745\"></div>\n"
            ]
          },
          "metadata": {
            "tags": []
          }
        },
        {
          "output_type": "display_data",
          "data": {
            "application/javascript": [
              "(function(root) {\n",
              "  function embed_document(root) {\n",
              "    \n",
              "  var docs_json = {\"384a6a77-76e4-43e4-9a79-f3cb51477e84\":{\"roots\":{\"references\":[{\"attributes\":{\"below\":[{\"id\":\"61756\",\"type\":\"DatetimeAxis\"}],\"center\":[{\"id\":\"61760\",\"type\":\"Grid\"},{\"id\":\"61769\",\"type\":\"Grid\"},{\"id\":\"61807\",\"type\":\"Legend\"},{\"id\":\"61905\",\"type\":\"BoxAnnotation\"}],\"left\":[{\"id\":\"61761\",\"type\":\"MercatorAxis\"}],\"plot_height\":500,\"renderers\":[{\"id\":\"61787\",\"type\":\"GlyphRenderer\"},{\"id\":\"61813\",\"type\":\"GlyphRenderer\"},{\"id\":\"61840\",\"type\":\"GlyphRenderer\"},{\"id\":\"61869\",\"type\":\"GlyphRenderer\"}],\"sizing_mode\":\"stretch_both\",\"title\":{\"id\":\"61746\",\"type\":\"Title\"},\"toolbar\":{\"id\":\"61776\",\"type\":\"Toolbar\"},\"x_range\":{\"id\":\"61748\",\"type\":\"DataRange1d\"},\"x_scale\":{\"id\":\"61752\",\"type\":\"LinearScale\"},\"y_range\":{\"id\":\"61750\",\"type\":\"DataRange1d\"},\"y_scale\":{\"id\":\"61754\",\"type\":\"LinearScale\"}},\"id\":\"61745\",\"subtype\":\"Figure\",\"type\":\"Plot\"},{\"attributes\":{\"bottom_units\":\"screen\",\"fill_alpha\":{\"value\":0.5},\"fill_color\":{\"value\":\"lightgrey\"},\"left_units\":\"screen\",\"level\":\"overlay\",\"line_alpha\":{\"value\":1.0},\"line_color\":{\"value\":\"black\"},\"line_dash\":[4,4],\"line_width\":{\"value\":2},\"render_mode\":\"css\",\"right_units\":\"screen\",\"top_units\":\"screen\"},\"id\":\"61794\",\"type\":\"BoxAnnotation\"},{\"attributes\":{\"data_source\":{\"id\":\"61809\",\"type\":\"ColumnDataSource\"},\"glyph\":{\"id\":\"61811\",\"type\":\"Line\"},\"hover_glyph\":null,\"muted_glyph\":null,\"nonselection_glyph\":{\"id\":\"61812\",\"type\":\"Line\"},\"selection_glyph\":null,\"view\":{\"id\":\"61814\",\"type\":\"CDSView\"}},\"id\":\"61813\",\"type\":\"GlyphRenderer\"},{\"attributes\":{},\"id\":\"61806\",\"type\":\"YearsTicker\"},{\"attributes\":{},\"id\":\"61893\",\"type\":\"Selection\"},{\"attributes\":{\"line_alpha\":0.1,\"line_color\":\"#1f77b4\",\"line_width\":3,\"x\":{\"field\":\"ObservationDate\"},\"y\":{\"field\":\"Active\"}},\"id\":\"61868\",\"type\":\"Line\"},{\"attributes\":{\"axis_label\":\"Number of cases in Lakhs\",\"axis_label_standoff\":10,\"axis_label_text_color\":{\"value\":\"#5B5B5B\"},\"axis_label_text_font\":\"Calibri Light\",\"axis_label_text_font_size\":{\"value\":\"1.15em\"},\"axis_label_text_font_style\":\"bold\",\"axis_line_alpha\":{\"value\":25},\"axis_line_color\":{\"value\":\"#5B5B5B\"},\"formatter\":{\"id\":\"61764\",\"type\":\"MercatorTickFormatter\"},\"major_label_text_color\":{\"value\":\"#5B5B5B\"},\"major_label_text_font\":\"Calibri Light\",\"major_label_text_font_size\":{\"value\":\"0.95em\"},\"major_label_text_font_style\":\"bold\",\"major_tick_in\":0,\"major_tick_line_alpha\":{\"value\":25},\"major_tick_line_color\":{\"value\":\"#5B5B5B\"},\"major_tick_out\":3,\"minor_tick_line_alpha\":{\"value\":0},\"minor_tick_line_color\":{\"value\":\"#5B5B5B\"},\"ticker\":{\"id\":\"61762\",\"type\":\"MercatorTicker\"}},\"id\":\"61761\",\"type\":\"MercatorAxis\"},{\"attributes\":{\"num_minor_ticks\":5,\"tickers\":[{\"id\":\"61795\",\"type\":\"AdaptiveTicker\"},{\"id\":\"61796\",\"type\":\"AdaptiveTicker\"},{\"id\":\"61797\",\"type\":\"AdaptiveTicker\"},{\"id\":\"61798\",\"type\":\"DaysTicker\"},{\"id\":\"61799\",\"type\":\"DaysTicker\"},{\"id\":\"61800\",\"type\":\"DaysTicker\"},{\"id\":\"61801\",\"type\":\"DaysTicker\"},{\"id\":\"61802\",\"type\":\"MonthsTicker\"},{\"id\":\"61803\",\"type\":\"MonthsTicker\"},{\"id\":\"61804\",\"type\":\"MonthsTicker\"},{\"id\":\"61805\",\"type\":\"MonthsTicker\"},{\"id\":\"61806\",\"type\":\"YearsTicker\"}]},\"id\":\"61757\",\"type\":\"DatetimeTicker\"},{\"attributes\":{\"callback\":null,\"data\":{\"Active\":[510,605,879,1357,2010,2784,5340,5906,7921,9490,11495,15953,18832,22548,25948,28697,31662,33699,36001,37804,39007,38954,52704,57306,57971,58591,58809,58779,57398,55775,55702,53255,53122,51714,49802,48243,46665,44541,43290,42659,41622,41455,40699,40741,42474,43919,45337,47074,49916,54247,55299,69538,77656,84973,96332,108423,122869,147884,173465,199900,225256,260828,291648,332649,383477,435184,490632,537139,580247,637352,692625,750057,811334,886650,942729,994021,1044177,1094105,1145920,1213098,1260902,1310869,1349183,1375947,1410859,1466739,1518026,1565930,1612432,1656535,1692721,1731200,1779541,1820144,1877215,1899198,1936630,1970587,1993529,2008705,2051800,2090423,2134023,2168794,2206620,2246097,2291410,2341116],\"Confirmed\":[555,654,941,1438,2118,2927,5578,6165,8235,9926,12038,16788,19881,23892,27636,30818,34412,37121,40151,42763,44803,45222,60370,66887,69032,71226,73260,75138,75641,76199,76843,78599,78985,79588,80415,81397,82756,84124,86021,88371,90309,92844,95124,97886,101811,105841,109836,113585,118589,126335,128788,145199,156099,167447,181582,197175,215007,242715,272169,304549,337122,378369,437826,467595,529591,593291,660693,720140,782389,857487,932605,1013355,1095917,1197409,1272115,1345108,1426096,1511104,1595405,1691719,1771534,1846695,1917321,1982781,2056055,2152647,2240303,2317760,2401379,2472400,2549130,2626197,2708886,2810855,2896888,2971476,3041798,3116920,3196401,3280310,3343778,3427513,3506731,3583056,3662692,3755345,3847304,3939545],\"Deaths\":[17,18,26,42,56,82,131,133,171,213,259,362,426,492,564,634,719,806,906,1013,1113,1118,1371,1523,1666,1770,1868,2007,2122,2247,2251,2458,2469,2629,2708,2770,2814,2872,2941,2996,3085,3160,3254,3348,3460,3558,3803,3996,4270,4623,4728,5404,5819,6440,7131,7905,8733,9869,11300,12977,14625,16497,19475,21182,23973,27198,30652,33925,37587,42107,46809,52983,58788,64607,69376,74566,81867,88338,95456,102525,108533,114092,119487,125993,134177,143801,153822,159510,165044,169986,176583,183067,190858,197153,202848,206544,211167,217166,227638,233388,238716,243869,247470,251538,257240,263831,269568,274902],\"Mortality Rate\":{\"__ndarray__\":\"FmpOAnGhDkBRcxKIC/VZQDX2MAvI11NAvwDs1grePEArbjrijfo2QMw9Am9MmzZAGGkAmfmSLkAPFs7SRsssQA/JWMDhgi1AHK+0OlhHKUCO19wkcl4mQPD07gJkK05A8GyxT4mlTUBZMeSalAtQQJ/gom4qUlBAYzZGHcwUUEBo96DKDbNIQFGClKYPmklAYnPRsUQES0D0n6KK9bJKQD0UffFZCktALOiybnSmS0AjG0Puo/BOQFDlvDhyAE9A/rLLBfNYUUCsk7ACpoBSQD9wip+uXlJAiYRQb92uUkAJZMnq+CFmQKrsAgOQ/F1APJn4ErqeWkCwaRb5SW9ZQOOEIl5yeFlAwMzrcxb5WUAUZZ0y/fxYQEmlYdtVJVlAHXBuOn4qV0BOjnj6HptWQDT0w6V6IFpAe5Q3KhaZYkB3DJ9BL7doQB3DLR1POWhAho/3aq7IbkAIA1ZWDcNqQBDXB8oVlWVApjocz6HWZECWTZenBo10QDxaikqy23lANqLE7sMZZkB8hLnzNdNpQKq5DJ9QKnNAtuTX3ngyfECpphcYBK97QI+wbciP3HZA6lZT2+a8f0CEyvruMNV8QDrSl2inPnxABNVECOSLekA95TfImut8QC/+2DeDJX5AAAAAAAAA8H8AAAAAAADwfwAAAAAAAPB/AAAAAAAA8H8AAAAAAADwfwAAAAAAAPB/AAAAAAAA8H8AAAAAAADwfwAAAAAAAPB/AAAAAAAA8H8AAAAAAADwfwAAAAAAAPB/AAAAAAAA8H8AAAAAAADwfwAAAAAAAPB/AAAAAAAA8H8AAAAAAADwfwAAAAAAAPB/AAAAAAAA8H8AAAAAAADwfwAAAAAAAPB/H2MQv6Dbj0Ah90sB5P2PQM/6g6zyNpBAprY3HYUckEBU6yEnTVuQQObY7yLthpBAVg1nSgqVkECGYtSb0A2RQBATPLbo5JBAPg3P6A4EkUAXeN2R/xWRQAAAAAAAAPB/AAAAAAAA8H8AAAAAAADwfwAAAAAAAPB/AAAAAAAA8H8AAAAAAADwfwAAAAAAAPB/AAAAAAAA8H+oh6RbfAGUQPyMVkuy3pNAQi5ELxgGlEAk9kvxsgyUQBFL+N6nB5RAheYQCChHlEBhtvSacUSUQFoT20FZN5RA\",\"dtype\":\"float64\",\"shape\":[108]},\"ObservationDate\":{\"__ndarray__\":\"AABAx6j8dkIAAAAt+/x2QgAAwJJN/XZCAACA+J/9dkIAAEBe8v12QgAAAMRE/nZCAADAKZf+dkIAAICP6f52QgAAQPU7/3ZCAAAAW47/dkIAAMDA4P92QgAAgCYzAHdCAABAjIUAd0IAAADy1wB3QgAAwFcqAXdCAACAvXwBd0IAAEAjzwF3QgAAAIkhAndCAADA7nMCd0IAAIBUxgJ3QgAAQLoYA3dCAAAAIGsDd0IAAMCFvQN3QgAAgOsPBHdCAABAUWIEd0IAAAC3tAR3QgAAwBwHBXdCAACAglkFd0IAAEDoqwV3QgAAAE7+BXdCAADAs1AGd0IAAIAZowZ3QgAAQH/1BndCAAAA5UcHd0IAAMBKmgd3QgAAgLDsB3dCAABAFj8Id0IAAAB8kQh3QgAAwOHjCHdCAACARzYJd0IAAECtiAl3QgAAABPbCXdCAADAeC0Kd0IAAIDefwp3QgAAQETSCndCAAAAqiQLd0IAAMAPdwt3QgAAgHXJC3dCAABA2xsMd0IAAABBbgx3QgAAwKbADHdCAACADBMNd0IAAEByZQ13QgAAANi3DXdCAADAPQoOd0IAAICjXA53QgAAQAmvDndCAAAAbwEPd0IAAMDUUw93QgAAgDqmD3dCAABAoPgPd0IAAAAGSxB3QgAAwGudEHdCAACA0e8Qd0IAAEA3QhF3QgAAAJ2UEXdCAADAAucRd0IAAIBoORJ3QgAAQM6LEndCAAAANN4Sd0IAAMCZMBN3QgAAgP+CE3dCAABAZdUTd0IAAADLJxR3QgAAwDB6FHdCAACAlswUd0IAAED8HhV3QgAAAGJxFXdCAADAx8MVd0IAAIAtFhZ3QgAAQJNoFndCAAAA+boWd0IAAMBeDRd3QgAAgMRfF3dCAABAKrIXd0IAAACQBBh3QgAAwPVWGHdCAACAW6kYd0IAAEDB+xh3QgAAACdOGXdCAADAjKAZd0IAAIDy8hl3QgAAQFhFGndCAAAAvpcad0IAAMAj6hp3QgAAgIk8G3dCAABA744bd0IAAABV4Rt3QgAAwLozHHdCAACAIIYcd0IAAECG2Bx3QgAAAOwqHXdCAADAUX0dd0IAAIC3zx13QgAAQB0iHndCAAAAg3Qed0IAAMDoxh53QgAAgE4ZH3dC\",\"dtype\":\"float64\",\"shape\":[108]},\"Recovered\":[28,30,36,39,52,61,107,126,143,222,284,472,624,852,1124,1490,2011,2616,3246,3946,4685,5151,6295,8058,9399,10865,12583,14352,16121,18177,18891,22886,23395,25228,27905,30384,33277,36711,39782,42716,45602,48229,51171,53797,55866,58359,60712,62512,64421,67398,68720,70252,72624,76040,78096,80845,83330,84974,87433,91678,97272,100961,109952,113764,122200,130909,139409,149076,164560,178034,193440,210263,225826,246153,260018,276519,300054,328661,354007,376096,402110,421722,448999,474261,511019,542108,569292,592319,623903,645738,680069,709694,738487,793424,817733,865742,893967,928673,972729,1035635,1053329,1093578,1125236,1162724,1198832,1245413,1284742,1322050],\"new_confirmed\":[0,96,285,496,676,805,2647,582,2066,1684,2106,4750,3092,4010,3743,3182,3533,2729,3027,2612,2039,419,15147,6516,2145,2194,2034,1878,501,558,618,1756,386,561,840,974,1355,1360,1891,2343,1914,2524,2266,2741,3878,3967,3933,3775,5069,6545,2919,16929,10873,11338,13828,15615,17823,27787,29451,32377,53384,57269,44234,48915,61907,63692,67392,59447,62246,75095,75118,80745,82614,101491,74701,72989,80995,85008,84301,96368,79815,75181,70641,65461,79863,96592,87656,77569,83620,71021,76871,77087,84926,102797,86173,74730,69483,75156,80003,86408,86932,83736,79388,76327,79637,92654,91963,93827],\"new_deaths\":[0,1,8,16,14,26,49,2,38,42,46,103,64,66,72,70,85,87,100,107,100,5,253,152,143,104,98,139,113,125,4,207,11,160,79,62,44,58,69,55,85,75,94,94,112,98,245,193,293,336,112,691,415,621,686,779,828,1136,1433,1678,2536,2548,2312,2557,2791,3228,3454,3273,3662,4525,4702,6174,5805,5820,4770,5192,7302,6473,7118,7070,6008,5591,5398,6511,8193,9624,10021,5688,5534,4942,6597,6484,7791,6311,5697,3698,4607,5999,10485,5750,5328,5219,3662,4068,5703,6592,5737,5335],\"new_recovered\":[0,2,6,3,13,9,46,19,17,79,62,188,152,229,272,366,524,605,630,702,739,468,1145,1763,1341,1470,1718,1769,1769,2056,714,3996,509,1834,2678,2479,2893,3434,3071,2934,2886,2627,2942,2626,2069,2494,2353,1821,1915,2599,1716,2324,2373,3416,2062,2757,2384,1661,2471,4275,5820,5918,6903,5478,8419,8765,8500,9667,15484,13474,15412,17092,15563,20357,13866,16507,23539,28607,25346,22121,26014,19612,27277,25606,36758,31089,27185,23976,31584,21835,34331,29875,28793,54938,24313,49057,28234,34706,44071,62916,38576,40251,32124,37488,36108,46581,39329,37309]},\"selected\":{\"id\":\"61833\",\"type\":\"Selection\"},\"selection_policy\":{\"id\":\"61834\",\"type\":\"UnionRenderers\"}},\"id\":\"61783\",\"type\":\"ColumnDataSource\"},{\"attributes\":{\"callback\":null,\"data\":{\"Active\":[510,605,879,1357,2010,2784,5340,5906,7921,9490,11495,15953,18832,22548,25948,28697,31662,33699,36001,37804,39007,38954,52704,57306,57971,58591,58809,58779,57398,55775,55702,53255,53122,51714,49802,48243,46665,44541,43290,42659,41622,41455,40699,40741,42474,43919,45337,47074,49916,54247,55299,69538,77656,84973,96332,108423,122869,147884,173465,199900,225256,260828,291648,332649,383477,435184,490632,537139,580247,637352,692625,750057,811334,886650,942729,994021,1044177,1094105,1145920,1213098,1260902,1310869,1349183,1375947,1410859,1466739,1518026,1565930,1612432,1656535,1692721,1731200,1779541,1820144,1877215,1899198,1936630,1970587,1993529,2008705,2051800,2090423,2134023,2168794,2206620,2246097,2291410,2341116],\"Confirmed\":[555,654,941,1438,2118,2927,5578,6165,8235,9926,12038,16788,19881,23892,27636,30818,34412,37121,40151,42763,44803,45222,60370,66887,69032,71226,73260,75138,75641,76199,76843,78599,78985,79588,80415,81397,82756,84124,86021,88371,90309,92844,95124,97886,101811,105841,109836,113585,118589,126335,128788,145199,156099,167447,181582,197175,215007,242715,272169,304549,337122,378369,437826,467595,529591,593291,660693,720140,782389,857487,932605,1013355,1095917,1197409,1272115,1345108,1426096,1511104,1595405,1691719,1771534,1846695,1917321,1982781,2056055,2152647,2240303,2317760,2401379,2472400,2549130,2626197,2708886,2810855,2896888,2971476,3041798,3116920,3196401,3280310,3343778,3427513,3506731,3583056,3662692,3755345,3847304,3939545],\"Deaths\":[17,18,26,42,56,82,131,133,171,213,259,362,426,492,564,634,719,806,906,1013,1113,1118,1371,1523,1666,1770,1868,2007,2122,2247,2251,2458,2469,2629,2708,2770,2814,2872,2941,2996,3085,3160,3254,3348,3460,3558,3803,3996,4270,4623,4728,5404,5819,6440,7131,7905,8733,9869,11300,12977,14625,16497,19475,21182,23973,27198,30652,33925,37587,42107,46809,52983,58788,64607,69376,74566,81867,88338,95456,102525,108533,114092,119487,125993,134177,143801,153822,159510,165044,169986,176583,183067,190858,197153,202848,206544,211167,217166,227638,233388,238716,243869,247470,251538,257240,263831,269568,274902],\"Mortality Rate\":{\"__ndarray__\":\"FmpOAnGhDkBRcxKIC/VZQDX2MAvI11NAvwDs1grePEArbjrijfo2QMw9Am9MmzZAGGkAmfmSLkAPFs7SRsssQA/JWMDhgi1AHK+0OlhHKUCO19wkcl4mQPD07gJkK05A8GyxT4mlTUBZMeSalAtQQJ/gom4qUlBAYzZGHcwUUEBo96DKDbNIQFGClKYPmklAYnPRsUQES0D0n6KK9bJKQD0UffFZCktALOiybnSmS0AjG0Puo/BOQFDlvDhyAE9A/rLLBfNYUUCsk7ACpoBSQD9wip+uXlJAiYRQb92uUkAJZMnq+CFmQKrsAgOQ/F1APJn4ErqeWkCwaRb5SW9ZQOOEIl5yeFlAwMzrcxb5WUAUZZ0y/fxYQEmlYdtVJVlAHXBuOn4qV0BOjnj6HptWQDT0w6V6IFpAe5Q3KhaZYkB3DJ9BL7doQB3DLR1POWhAho/3aq7IbkAIA1ZWDcNqQBDXB8oVlWVApjocz6HWZECWTZenBo10QDxaikqy23lANqLE7sMZZkB8hLnzNdNpQKq5DJ9QKnNAtuTX3ngyfECpphcYBK97QI+wbciP3HZA6lZT2+a8f0CEyvruMNV8QDrSl2inPnxABNVECOSLekA95TfImut8QC/+2DeDJX5AAAAAAAAA8H8AAAAAAADwfwAAAAAAAPB/AAAAAAAA8H8AAAAAAADwfwAAAAAAAPB/AAAAAAAA8H8AAAAAAADwfwAAAAAAAPB/AAAAAAAA8H8AAAAAAADwfwAAAAAAAPB/AAAAAAAA8H8AAAAAAADwfwAAAAAAAPB/AAAAAAAA8H8AAAAAAADwfwAAAAAAAPB/AAAAAAAA8H8AAAAAAADwfwAAAAAAAPB/H2MQv6Dbj0Ah90sB5P2PQM/6g6zyNpBAprY3HYUckEBU6yEnTVuQQObY7yLthpBAVg1nSgqVkECGYtSb0A2RQBATPLbo5JBAPg3P6A4EkUAXeN2R/xWRQAAAAAAAAPB/AAAAAAAA8H8AAAAAAADwfwAAAAAAAPB/AAAAAAAA8H8AAAAAAADwfwAAAAAAAPB/AAAAAAAA8H+oh6RbfAGUQPyMVkuy3pNAQi5ELxgGlEAk9kvxsgyUQBFL+N6nB5RAheYQCChHlEBhtvSacUSUQFoT20FZN5RA\",\"dtype\":\"float64\",\"shape\":[108]},\"ObservationDate\":{\"__ndarray__\":\"AABAx6j8dkIAAAAt+/x2QgAAwJJN/XZCAACA+J/9dkIAAEBe8v12QgAAAMRE/nZCAADAKZf+dkIAAICP6f52QgAAQPU7/3ZCAAAAW47/dkIAAMDA4P92QgAAgCYzAHdCAABAjIUAd0IAAADy1wB3QgAAwFcqAXdCAACAvXwBd0IAAEAjzwF3QgAAAIkhAndCAADA7nMCd0IAAIBUxgJ3QgAAQLoYA3dCAAAAIGsDd0IAAMCFvQN3QgAAgOsPBHdCAABAUWIEd0IAAAC3tAR3QgAAwBwHBXdCAACAglkFd0IAAEDoqwV3QgAAAE7+BXdCAADAs1AGd0IAAIAZowZ3QgAAQH/1BndCAAAA5UcHd0IAAMBKmgd3QgAAgLDsB3dCAABAFj8Id0IAAAB8kQh3QgAAwOHjCHdCAACARzYJd0IAAECtiAl3QgAAABPbCXdCAADAeC0Kd0IAAIDefwp3QgAAQETSCndCAAAAqiQLd0IAAMAPdwt3QgAAgHXJC3dCAABA2xsMd0IAAABBbgx3QgAAwKbADHdCAACADBMNd0IAAEByZQ13QgAAANi3DXdCAADAPQoOd0IAAICjXA53QgAAQAmvDndCAAAAbwEPd0IAAMDUUw93QgAAgDqmD3dCAABAoPgPd0IAAAAGSxB3QgAAwGudEHdCAACA0e8Qd0IAAEA3QhF3QgAAAJ2UEXdCAADAAucRd0IAAIBoORJ3QgAAQM6LEndCAAAANN4Sd0IAAMCZMBN3QgAAgP+CE3dCAABAZdUTd0IAAADLJxR3QgAAwDB6FHdCAACAlswUd0IAAED8HhV3QgAAAGJxFXdCAADAx8MVd0IAAIAtFhZ3QgAAQJNoFndCAAAA+boWd0IAAMBeDRd3QgAAgMRfF3dCAABAKrIXd0IAAACQBBh3QgAAwPVWGHdCAACAW6kYd0IAAEDB+xh3QgAAACdOGXdCAADAjKAZd0IAAIDy8hl3QgAAQFhFGndCAAAAvpcad0IAAMAj6hp3QgAAgIk8G3dCAABA744bd0IAAABV4Rt3QgAAwLozHHdCAACAIIYcd0IAAECG2Bx3QgAAAOwqHXdCAADAUX0dd0IAAIC3zx13QgAAQB0iHndCAAAAg3Qed0IAAMDoxh53QgAAgE4ZH3dC\",\"dtype\":\"float64\",\"shape\":[108]},\"Recovered\":[28,30,36,39,52,61,107,126,143,222,284,472,624,852,1124,1490,2011,2616,3246,3946,4685,5151,6295,8058,9399,10865,12583,14352,16121,18177,18891,22886,23395,25228,27905,30384,33277,36711,39782,42716,45602,48229,51171,53797,55866,58359,60712,62512,64421,67398,68720,70252,72624,76040,78096,80845,83330,84974,87433,91678,97272,100961,109952,113764,122200,130909,139409,149076,164560,178034,193440,210263,225826,246153,260018,276519,300054,328661,354007,376096,402110,421722,448999,474261,511019,542108,569292,592319,623903,645738,680069,709694,738487,793424,817733,865742,893967,928673,972729,1035635,1053329,1093578,1125236,1162724,1198832,1245413,1284742,1322050],\"new_confirmed\":[0,96,285,496,676,805,2647,582,2066,1684,2106,4750,3092,4010,3743,3182,3533,2729,3027,2612,2039,419,15147,6516,2145,2194,2034,1878,501,558,618,1756,386,561,840,974,1355,1360,1891,2343,1914,2524,2266,2741,3878,3967,3933,3775,5069,6545,2919,16929,10873,11338,13828,15615,17823,27787,29451,32377,53384,57269,44234,48915,61907,63692,67392,59447,62246,75095,75118,80745,82614,101491,74701,72989,80995,85008,84301,96368,79815,75181,70641,65461,79863,96592,87656,77569,83620,71021,76871,77087,84926,102797,86173,74730,69483,75156,80003,86408,86932,83736,79388,76327,79637,92654,91963,93827],\"new_deaths\":[0,1,8,16,14,26,49,2,38,42,46,103,64,66,72,70,85,87,100,107,100,5,253,152,143,104,98,139,113,125,4,207,11,160,79,62,44,58,69,55,85,75,94,94,112,98,245,193,293,336,112,691,415,621,686,779,828,1136,1433,1678,2536,2548,2312,2557,2791,3228,3454,3273,3662,4525,4702,6174,5805,5820,4770,5192,7302,6473,7118,7070,6008,5591,5398,6511,8193,9624,10021,5688,5534,4942,6597,6484,7791,6311,5697,3698,4607,5999,10485,5750,5328,5219,3662,4068,5703,6592,5737,5335],\"new_recovered\":[0,2,6,3,13,9,46,19,17,79,62,188,152,229,272,366,524,605,630,702,739,468,1145,1763,1341,1470,1718,1769,1769,2056,714,3996,509,1834,2678,2479,2893,3434,3071,2934,2886,2627,2942,2626,2069,2494,2353,1821,1915,2599,1716,2324,2373,3416,2062,2757,2384,1661,2471,4275,5820,5918,6903,5478,8419,8765,8500,9667,15484,13474,15412,17092,15563,20357,13866,16507,23539,28607,25346,22121,26014,19612,27277,25606,36758,31089,27185,23976,31584,21835,34331,29875,28793,54938,24313,49057,28234,34706,44071,62916,38576,40251,32124,37488,36108,46581,39329,37309]},\"selected\":{\"id\":\"61862\",\"type\":\"Selection\"},\"selection_policy\":{\"id\":\"61863\",\"type\":\"UnionRenderers\"}},\"id\":\"61809\",\"type\":\"ColumnDataSource\"},{\"attributes\":{\"dimension\":1,\"ticker\":{\"id\":\"61762\",\"type\":\"MercatorTicker\"}},\"id\":\"61769\",\"type\":\"Grid\"},{\"attributes\":{\"background_fill_alpha\":{\"value\":0.25},\"border_line_alpha\":{\"value\":0},\"glyph_width\":15,\"items\":[{\"id\":\"61808\",\"type\":\"LegendItem\"},{\"id\":\"61835\",\"type\":\"LegendItem\"},{\"id\":\"61864\",\"type\":\"LegendItem\"},{\"id\":\"61895\",\"type\":\"LegendItem\"}],\"label_standoff\":8,\"label_text_color\":{\"value\":\"#5B5B5B\"},\"label_text_font\":\"Calibri Light\",\"label_text_font_size\":{\"value\":\"0.95em\"},\"label_text_font_style\":\"bold\",\"location\":\"top_left\",\"spacing\":8},\"id\":\"61807\",\"type\":\"Legend\"},{\"attributes\":{\"mantissas\":[1,2,5],\"max_interval\":500.0,\"num_minor_ticks\":0},\"id\":\"61795\",\"type\":\"AdaptiveTicker\"},{\"attributes\":{\"months\":[0,4,8]},\"id\":\"61804\",\"type\":\"MonthsTicker\"},{\"attributes\":{\"months\":[0,6]},\"id\":\"61805\",\"type\":\"MonthsTicker\"},{\"attributes\":{\"label\":{\"value\":\"Active\"},\"renderers\":[{\"id\":\"61869\",\"type\":\"GlyphRenderer\"}]},\"id\":\"61895\",\"type\":\"LegendItem\"},{\"attributes\":{\"source\":{\"id\":\"61836\",\"type\":\"ColumnDataSource\"}},\"id\":\"61841\",\"type\":\"CDSView\"},{\"attributes\":{},\"id\":\"61752\",\"type\":\"LinearScale\"},{\"attributes\":{},\"id\":\"61862\",\"type\":\"Selection\"},{\"attributes\":{},\"id\":\"61833\",\"type\":\"Selection\"},{\"attributes\":{\"source\":{\"id\":\"61783\",\"type\":\"ColumnDataSource\"}},\"id\":\"61788\",\"type\":\"CDSView\"},{\"attributes\":{\"callback\":null,\"data\":{\"Active\":[510,605,879,1357,2010,2784,5340,5906,7921,9490,11495,15953,18832,22548,25948,28697,31662,33699,36001,37804,39007,38954,52704,57306,57971,58591,58809,58779,57398,55775,55702,53255,53122,51714,49802,48243,46665,44541,43290,42659,41622,41455,40699,40741,42474,43919,45337,47074,49916,54247,55299,69538,77656,84973,96332,108423,122869,147884,173465,199900,225256,260828,291648,332649,383477,435184,490632,537139,580247,637352,692625,750057,811334,886650,942729,994021,1044177,1094105,1145920,1213098,1260902,1310869,1349183,1375947,1410859,1466739,1518026,1565930,1612432,1656535,1692721,1731200,1779541,1820144,1877215,1899198,1936630,1970587,1993529,2008705,2051800,2090423,2134023,2168794,2206620,2246097,2291410,2341116],\"Confirmed\":[555,654,941,1438,2118,2927,5578,6165,8235,9926,12038,16788,19881,23892,27636,30818,34412,37121,40151,42763,44803,45222,60370,66887,69032,71226,73260,75138,75641,76199,76843,78599,78985,79588,80415,81397,82756,84124,86021,88371,90309,92844,95124,97886,101811,105841,109836,113585,118589,126335,128788,145199,156099,167447,181582,197175,215007,242715,272169,304549,337122,378369,437826,467595,529591,593291,660693,720140,782389,857487,932605,1013355,1095917,1197409,1272115,1345108,1426096,1511104,1595405,1691719,1771534,1846695,1917321,1982781,2056055,2152647,2240303,2317760,2401379,2472400,2549130,2626197,2708886,2810855,2896888,2971476,3041798,3116920,3196401,3280310,3343778,3427513,3506731,3583056,3662692,3755345,3847304,3939545],\"Deaths\":[17,18,26,42,56,82,131,133,171,213,259,362,426,492,564,634,719,806,906,1013,1113,1118,1371,1523,1666,1770,1868,2007,2122,2247,2251,2458,2469,2629,2708,2770,2814,2872,2941,2996,3085,3160,3254,3348,3460,3558,3803,3996,4270,4623,4728,5404,5819,6440,7131,7905,8733,9869,11300,12977,14625,16497,19475,21182,23973,27198,30652,33925,37587,42107,46809,52983,58788,64607,69376,74566,81867,88338,95456,102525,108533,114092,119487,125993,134177,143801,153822,159510,165044,169986,176583,183067,190858,197153,202848,206544,211167,217166,227638,233388,238716,243869,247470,251538,257240,263831,269568,274902],\"Mortality Rate\":{\"__ndarray__\":\"FmpOAnGhDkBRcxKIC/VZQDX2MAvI11NAvwDs1grePEArbjrijfo2QMw9Am9MmzZAGGkAmfmSLkAPFs7SRsssQA/JWMDhgi1AHK+0OlhHKUCO19wkcl4mQPD07gJkK05A8GyxT4mlTUBZMeSalAtQQJ/gom4qUlBAYzZGHcwUUEBo96DKDbNIQFGClKYPmklAYnPRsUQES0D0n6KK9bJKQD0UffFZCktALOiybnSmS0AjG0Puo/BOQFDlvDhyAE9A/rLLBfNYUUCsk7ACpoBSQD9wip+uXlJAiYRQb92uUkAJZMnq+CFmQKrsAgOQ/F1APJn4ErqeWkCwaRb5SW9ZQOOEIl5yeFlAwMzrcxb5WUAUZZ0y/fxYQEmlYdtVJVlAHXBuOn4qV0BOjnj6HptWQDT0w6V6IFpAe5Q3KhaZYkB3DJ9BL7doQB3DLR1POWhAho/3aq7IbkAIA1ZWDcNqQBDXB8oVlWVApjocz6HWZECWTZenBo10QDxaikqy23lANqLE7sMZZkB8hLnzNdNpQKq5DJ9QKnNAtuTX3ngyfECpphcYBK97QI+wbciP3HZA6lZT2+a8f0CEyvruMNV8QDrSl2inPnxABNVECOSLekA95TfImut8QC/+2DeDJX5AAAAAAAAA8H8AAAAAAADwfwAAAAAAAPB/AAAAAAAA8H8AAAAAAADwfwAAAAAAAPB/AAAAAAAA8H8AAAAAAADwfwAAAAAAAPB/AAAAAAAA8H8AAAAAAADwfwAAAAAAAPB/AAAAAAAA8H8AAAAAAADwfwAAAAAAAPB/AAAAAAAA8H8AAAAAAADwfwAAAAAAAPB/AAAAAAAA8H8AAAAAAADwfwAAAAAAAPB/H2MQv6Dbj0Ah90sB5P2PQM/6g6zyNpBAprY3HYUckEBU6yEnTVuQQObY7yLthpBAVg1nSgqVkECGYtSb0A2RQBATPLbo5JBAPg3P6A4EkUAXeN2R/xWRQAAAAAAAAPB/AAAAAAAA8H8AAAAAAADwfwAAAAAAAPB/AAAAAAAA8H8AAAAAAADwfwAAAAAAAPB/AAAAAAAA8H+oh6RbfAGUQPyMVkuy3pNAQi5ELxgGlEAk9kvxsgyUQBFL+N6nB5RAheYQCChHlEBhtvSacUSUQFoT20FZN5RA\",\"dtype\":\"float64\",\"shape\":[108]},\"ObservationDate\":{\"__ndarray__\":\"AABAx6j8dkIAAAAt+/x2QgAAwJJN/XZCAACA+J/9dkIAAEBe8v12QgAAAMRE/nZCAADAKZf+dkIAAICP6f52QgAAQPU7/3ZCAAAAW47/dkIAAMDA4P92QgAAgCYzAHdCAABAjIUAd0IAAADy1wB3QgAAwFcqAXdCAACAvXwBd0IAAEAjzwF3QgAAAIkhAndCAADA7nMCd0IAAIBUxgJ3QgAAQLoYA3dCAAAAIGsDd0IAAMCFvQN3QgAAgOsPBHdCAABAUWIEd0IAAAC3tAR3QgAAwBwHBXdCAACAglkFd0IAAEDoqwV3QgAAAE7+BXdCAADAs1AGd0IAAIAZowZ3QgAAQH/1BndCAAAA5UcHd0IAAMBKmgd3QgAAgLDsB3dCAABAFj8Id0IAAAB8kQh3QgAAwOHjCHdCAACARzYJd0IAAECtiAl3QgAAABPbCXdCAADAeC0Kd0IAAIDefwp3QgAAQETSCndCAAAAqiQLd0IAAMAPdwt3QgAAgHXJC3dCAABA2xsMd0IAAABBbgx3QgAAwKbADHdCAACADBMNd0IAAEByZQ13QgAAANi3DXdCAADAPQoOd0IAAICjXA53QgAAQAmvDndCAAAAbwEPd0IAAMDUUw93QgAAgDqmD3dCAABAoPgPd0IAAAAGSxB3QgAAwGudEHdCAACA0e8Qd0IAAEA3QhF3QgAAAJ2UEXdCAADAAucRd0IAAIBoORJ3QgAAQM6LEndCAAAANN4Sd0IAAMCZMBN3QgAAgP+CE3dCAABAZdUTd0IAAADLJxR3QgAAwDB6FHdCAACAlswUd0IAAED8HhV3QgAAAGJxFXdCAADAx8MVd0IAAIAtFhZ3QgAAQJNoFndCAAAA+boWd0IAAMBeDRd3QgAAgMRfF3dCAABAKrIXd0IAAACQBBh3QgAAwPVWGHdCAACAW6kYd0IAAEDB+xh3QgAAACdOGXdCAADAjKAZd0IAAIDy8hl3QgAAQFhFGndCAAAAvpcad0IAAMAj6hp3QgAAgIk8G3dCAABA744bd0IAAABV4Rt3QgAAwLozHHdCAACAIIYcd0IAAECG2Bx3QgAAAOwqHXdCAADAUX0dd0IAAIC3zx13QgAAQB0iHndCAAAAg3Qed0IAAMDoxh53QgAAgE4ZH3dC\",\"dtype\":\"float64\",\"shape\":[108]},\"Recovered\":[28,30,36,39,52,61,107,126,143,222,284,472,624,852,1124,1490,2011,2616,3246,3946,4685,5151,6295,8058,9399,10865,12583,14352,16121,18177,18891,22886,23395,25228,27905,30384,33277,36711,39782,42716,45602,48229,51171,53797,55866,58359,60712,62512,64421,67398,68720,70252,72624,76040,78096,80845,83330,84974,87433,91678,97272,100961,109952,113764,122200,130909,139409,149076,164560,178034,193440,210263,225826,246153,260018,276519,300054,328661,354007,376096,402110,421722,448999,474261,511019,542108,569292,592319,623903,645738,680069,709694,738487,793424,817733,865742,893967,928673,972729,1035635,1053329,1093578,1125236,1162724,1198832,1245413,1284742,1322050],\"new_confirmed\":[0,96,285,496,676,805,2647,582,2066,1684,2106,4750,3092,4010,3743,3182,3533,2729,3027,2612,2039,419,15147,6516,2145,2194,2034,1878,501,558,618,1756,386,561,840,974,1355,1360,1891,2343,1914,2524,2266,2741,3878,3967,3933,3775,5069,6545,2919,16929,10873,11338,13828,15615,17823,27787,29451,32377,53384,57269,44234,48915,61907,63692,67392,59447,62246,75095,75118,80745,82614,101491,74701,72989,80995,85008,84301,96368,79815,75181,70641,65461,79863,96592,87656,77569,83620,71021,76871,77087,84926,102797,86173,74730,69483,75156,80003,86408,86932,83736,79388,76327,79637,92654,91963,93827],\"new_deaths\":[0,1,8,16,14,26,49,2,38,42,46,103,64,66,72,70,85,87,100,107,100,5,253,152,143,104,98,139,113,125,4,207,11,160,79,62,44,58,69,55,85,75,94,94,112,98,245,193,293,336,112,691,415,621,686,779,828,1136,1433,1678,2536,2548,2312,2557,2791,3228,3454,3273,3662,4525,4702,6174,5805,5820,4770,5192,7302,6473,7118,7070,6008,5591,5398,6511,8193,9624,10021,5688,5534,4942,6597,6484,7791,6311,5697,3698,4607,5999,10485,5750,5328,5219,3662,4068,5703,6592,5737,5335],\"new_recovered\":[0,2,6,3,13,9,46,19,17,79,62,188,152,229,272,366,524,605,630,702,739,468,1145,1763,1341,1470,1718,1769,1769,2056,714,3996,509,1834,2678,2479,2893,3434,3071,2934,2886,2627,2942,2626,2069,2494,2353,1821,1915,2599,1716,2324,2373,3416,2062,2757,2384,1661,2471,4275,5820,5918,6903,5478,8419,8765,8500,9667,15484,13474,15412,17092,15563,20357,13866,16507,23539,28607,25346,22121,26014,19612,27277,25606,36758,31089,27185,23976,31584,21835,34331,29875,28793,54938,24313,49057,28234,34706,44071,62916,38576,40251,32124,37488,36108,46581,39329,37309]},\"selected\":{\"id\":\"63386\",\"type\":\"Selection\"},\"selection_policy\":{\"id\":\"63387\",\"type\":\"UnionRenderers\"}},\"id\":\"61865\",\"type\":\"ColumnDataSource\"},{\"attributes\":{\"line_color\":\"red\",\"line_width\":3,\"x\":{\"field\":\"ObservationDate\"},\"y\":{\"field\":\"Deaths\"}},\"id\":\"61811\",\"type\":\"Line\"},{\"attributes\":{\"days\":[1,8,15,22]},\"id\":\"61800\",\"type\":\"DaysTicker\"},{\"attributes\":{\"line_color\":\"green\",\"line_width\":3,\"x\":{\"field\":\"ObservationDate\"},\"y\":{\"field\":\"Recovered\"}},\"id\":\"61838\",\"type\":\"Line\"},{\"attributes\":{\"days\":[1,4,7,10,13,16,19,22,25,28]},\"id\":\"61799\",\"type\":\"DaysTicker\"},{\"attributes\":{\"callback\":null,\"mode\":\"vline\",\"renderers\":[{\"id\":\"61813\",\"type\":\"GlyphRenderer\"}],\"tooltips\":\"\\n    <div style =\\\"background-color:red;\\\">         \\n        <div>\\n            <span style=\\\"font-size: 15px; color: white;font-family:century gothic;\\\">@Deaths{0,000} Deaths</span>\\n        </div>\\n    </div>\"},\"id\":\"61896\",\"type\":\"HoverTool\"},{\"attributes\":{\"days\":[1,15]},\"id\":\"61801\",\"type\":\"DaysTicker\"},{\"attributes\":{},\"id\":\"61834\",\"type\":\"UnionRenderers\"},{\"attributes\":{},\"id\":\"63387\",\"type\":\"UnionRenderers\"},{\"attributes\":{\"dimension\":\"lat\"},\"id\":\"61762\",\"type\":\"MercatorTicker\"},{\"attributes\":{\"callback\":null,\"mode\":\"vline\",\"renderers\":[{\"id\":\"61787\",\"type\":\"GlyphRenderer\"}],\"tooltips\":\"\\n    <div style =\\\"background-color:blue;\\\">         \\n        <div>\\n            <span style=\\\"font-size: 15px; color: white;font-family:century gothic;\\\">@Confirmed{0,000} Confirmed</span>\\n        </div>\\n    </div>\"},\"id\":\"61902\",\"type\":\"HoverTool\"},{\"attributes\":{\"line_alpha\":0.1,\"line_color\":\"#1f77b4\",\"line_width\":3,\"x\":{\"field\":\"ObservationDate\"},\"y\":{\"field\":\"Deaths\"}},\"id\":\"61812\",\"type\":\"Line\"},{\"attributes\":{\"source\":{\"id\":\"61809\",\"type\":\"ColumnDataSource\"}},\"id\":\"61814\",\"type\":\"CDSView\"},{\"attributes\":{\"months\":[0,1,2,3,4,5,6,7,8,9,10,11]},\"id\":\"61802\",\"type\":\"MonthsTicker\"},{\"attributes\":{\"callback\":null,\"data\":{\"Active\":[510,605,879,1357,2010,2784,5340,5906,7921,9490,11495,15953,18832,22548,25948,28697,31662,33699,36001,37804,39007,38954,52704,57306,57971,58591,58809,58779,57398,55775,55702,53255,53122,51714,49802,48243,46665,44541,43290,42659,41622,41455,40699,40741,42474,43919,45337,47074,49916,54247,55299,69538,77656,84973,96332,108423,122869,147884,173465,199900,225256,260828,291648,332649,383477,435184,490632,537139,580247,637352,692625,750057,811334,886650,942729,994021,1044177,1094105,1145920,1213098,1260902,1310869,1349183,1375947,1410859,1466739,1518026,1565930,1612432,1656535,1692721,1731200,1779541,1820144,1877215,1899198,1936630,1970587,1993529,2008705,2051800,2090423,2134023,2168794,2206620,2246097,2291410,2341116],\"Confirmed\":[555,654,941,1438,2118,2927,5578,6165,8235,9926,12038,16788,19881,23892,27636,30818,34412,37121,40151,42763,44803,45222,60370,66887,69032,71226,73260,75138,75641,76199,76843,78599,78985,79588,80415,81397,82756,84124,86021,88371,90309,92844,95124,97886,101811,105841,109836,113585,118589,126335,128788,145199,156099,167447,181582,197175,215007,242715,272169,304549,337122,378369,437826,467595,529591,593291,660693,720140,782389,857487,932605,1013355,1095917,1197409,1272115,1345108,1426096,1511104,1595405,1691719,1771534,1846695,1917321,1982781,2056055,2152647,2240303,2317760,2401379,2472400,2549130,2626197,2708886,2810855,2896888,2971476,3041798,3116920,3196401,3280310,3343778,3427513,3506731,3583056,3662692,3755345,3847304,3939545],\"Deaths\":[17,18,26,42,56,82,131,133,171,213,259,362,426,492,564,634,719,806,906,1013,1113,1118,1371,1523,1666,1770,1868,2007,2122,2247,2251,2458,2469,2629,2708,2770,2814,2872,2941,2996,3085,3160,3254,3348,3460,3558,3803,3996,4270,4623,4728,5404,5819,6440,7131,7905,8733,9869,11300,12977,14625,16497,19475,21182,23973,27198,30652,33925,37587,42107,46809,52983,58788,64607,69376,74566,81867,88338,95456,102525,108533,114092,119487,125993,134177,143801,153822,159510,165044,169986,176583,183067,190858,197153,202848,206544,211167,217166,227638,233388,238716,243869,247470,251538,257240,263831,269568,274902],\"Mortality Rate\":{\"__ndarray__\":\"FmpOAnGhDkBRcxKIC/VZQDX2MAvI11NAvwDs1grePEArbjrijfo2QMw9Am9MmzZAGGkAmfmSLkAPFs7SRsssQA/JWMDhgi1AHK+0OlhHKUCO19wkcl4mQPD07gJkK05A8GyxT4mlTUBZMeSalAtQQJ/gom4qUlBAYzZGHcwUUEBo96DKDbNIQFGClKYPmklAYnPRsUQES0D0n6KK9bJKQD0UffFZCktALOiybnSmS0AjG0Puo/BOQFDlvDhyAE9A/rLLBfNYUUCsk7ACpoBSQD9wip+uXlJAiYRQb92uUkAJZMnq+CFmQKrsAgOQ/F1APJn4ErqeWkCwaRb5SW9ZQOOEIl5yeFlAwMzrcxb5WUAUZZ0y/fxYQEmlYdtVJVlAHXBuOn4qV0BOjnj6HptWQDT0w6V6IFpAe5Q3KhaZYkB3DJ9BL7doQB3DLR1POWhAho/3aq7IbkAIA1ZWDcNqQBDXB8oVlWVApjocz6HWZECWTZenBo10QDxaikqy23lANqLE7sMZZkB8hLnzNdNpQKq5DJ9QKnNAtuTX3ngyfECpphcYBK97QI+wbciP3HZA6lZT2+a8f0CEyvruMNV8QDrSl2inPnxABNVECOSLekA95TfImut8QC/+2DeDJX5AAAAAAAAA8H8AAAAAAADwfwAAAAAAAPB/AAAAAAAA8H8AAAAAAADwfwAAAAAAAPB/AAAAAAAA8H8AAAAAAADwfwAAAAAAAPB/AAAAAAAA8H8AAAAAAADwfwAAAAAAAPB/AAAAAAAA8H8AAAAAAADwfwAAAAAAAPB/AAAAAAAA8H8AAAAAAADwfwAAAAAAAPB/AAAAAAAA8H8AAAAAAADwfwAAAAAAAPB/H2MQv6Dbj0Ah90sB5P2PQM/6g6zyNpBAprY3HYUckEBU6yEnTVuQQObY7yLthpBAVg1nSgqVkECGYtSb0A2RQBATPLbo5JBAPg3P6A4EkUAXeN2R/xWRQAAAAAAAAPB/AAAAAAAA8H8AAAAAAADwfwAAAAAAAPB/AAAAAAAA8H8AAAAAAADwfwAAAAAAAPB/AAAAAAAA8H+oh6RbfAGUQPyMVkuy3pNAQi5ELxgGlEAk9kvxsgyUQBFL+N6nB5RAheYQCChHlEBhtvSacUSUQFoT20FZN5RA\",\"dtype\":\"float64\",\"shape\":[108]},\"ObservationDate\":{\"__ndarray__\":\"AABAx6j8dkIAAAAt+/x2QgAAwJJN/XZCAACA+J/9dkIAAEBe8v12QgAAAMRE/nZCAADAKZf+dkIAAICP6f52QgAAQPU7/3ZCAAAAW47/dkIAAMDA4P92QgAAgCYzAHdCAABAjIUAd0IAAADy1wB3QgAAwFcqAXdCAACAvXwBd0IAAEAjzwF3QgAAAIkhAndCAADA7nMCd0IAAIBUxgJ3QgAAQLoYA3dCAAAAIGsDd0IAAMCFvQN3QgAAgOsPBHdCAABAUWIEd0IAAAC3tAR3QgAAwBwHBXdCAACAglkFd0IAAEDoqwV3QgAAAE7+BXdCAADAs1AGd0IAAIAZowZ3QgAAQH/1BndCAAAA5UcHd0IAAMBKmgd3QgAAgLDsB3dCAABAFj8Id0IAAAB8kQh3QgAAwOHjCHdCAACARzYJd0IAAECtiAl3QgAAABPbCXdCAADAeC0Kd0IAAIDefwp3QgAAQETSCndCAAAAqiQLd0IAAMAPdwt3QgAAgHXJC3dCAABA2xsMd0IAAABBbgx3QgAAwKbADHdCAACADBMNd0IAAEByZQ13QgAAANi3DXdCAADAPQoOd0IAAICjXA53QgAAQAmvDndCAAAAbwEPd0IAAMDUUw93QgAAgDqmD3dCAABAoPgPd0IAAAAGSxB3QgAAwGudEHdCAACA0e8Qd0IAAEA3QhF3QgAAAJ2UEXdCAADAAucRd0IAAIBoORJ3QgAAQM6LEndCAAAANN4Sd0IAAMCZMBN3QgAAgP+CE3dCAABAZdUTd0IAAADLJxR3QgAAwDB6FHdCAACAlswUd0IAAED8HhV3QgAAAGJxFXdCAADAx8MVd0IAAIAtFhZ3QgAAQJNoFndCAAAA+boWd0IAAMBeDRd3QgAAgMRfF3dCAABAKrIXd0IAAACQBBh3QgAAwPVWGHdCAACAW6kYd0IAAEDB+xh3QgAAACdOGXdCAADAjKAZd0IAAIDy8hl3QgAAQFhFGndCAAAAvpcad0IAAMAj6hp3QgAAgIk8G3dCAABA744bd0IAAABV4Rt3QgAAwLozHHdCAACAIIYcd0IAAECG2Bx3QgAAAOwqHXdCAADAUX0dd0IAAIC3zx13QgAAQB0iHndCAAAAg3Qed0IAAMDoxh53QgAAgE4ZH3dC\",\"dtype\":\"float64\",\"shape\":[108]},\"Recovered\":[28,30,36,39,52,61,107,126,143,222,284,472,624,852,1124,1490,2011,2616,3246,3946,4685,5151,6295,8058,9399,10865,12583,14352,16121,18177,18891,22886,23395,25228,27905,30384,33277,36711,39782,42716,45602,48229,51171,53797,55866,58359,60712,62512,64421,67398,68720,70252,72624,76040,78096,80845,83330,84974,87433,91678,97272,100961,109952,113764,122200,130909,139409,149076,164560,178034,193440,210263,225826,246153,260018,276519,300054,328661,354007,376096,402110,421722,448999,474261,511019,542108,569292,592319,623903,645738,680069,709694,738487,793424,817733,865742,893967,928673,972729,1035635,1053329,1093578,1125236,1162724,1198832,1245413,1284742,1322050],\"new_confirmed\":[0,96,285,496,676,805,2647,582,2066,1684,2106,4750,3092,4010,3743,3182,3533,2729,3027,2612,2039,419,15147,6516,2145,2194,2034,1878,501,558,618,1756,386,561,840,974,1355,1360,1891,2343,1914,2524,2266,2741,3878,3967,3933,3775,5069,6545,2919,16929,10873,11338,13828,15615,17823,27787,29451,32377,53384,57269,44234,48915,61907,63692,67392,59447,62246,75095,75118,80745,82614,101491,74701,72989,80995,85008,84301,96368,79815,75181,70641,65461,79863,96592,87656,77569,83620,71021,76871,77087,84926,102797,86173,74730,69483,75156,80003,86408,86932,83736,79388,76327,79637,92654,91963,93827],\"new_deaths\":[0,1,8,16,14,26,49,2,38,42,46,103,64,66,72,70,85,87,100,107,100,5,253,152,143,104,98,139,113,125,4,207,11,160,79,62,44,58,69,55,85,75,94,94,112,98,245,193,293,336,112,691,415,621,686,779,828,1136,1433,1678,2536,2548,2312,2557,2791,3228,3454,3273,3662,4525,4702,6174,5805,5820,4770,5192,7302,6473,7118,7070,6008,5591,5398,6511,8193,9624,10021,5688,5534,4942,6597,6484,7791,6311,5697,3698,4607,5999,10485,5750,5328,5219,3662,4068,5703,6592,5737,5335],\"new_recovered\":[0,2,6,3,13,9,46,19,17,79,62,188,152,229,272,366,524,605,630,702,739,468,1145,1763,1341,1470,1718,1769,1769,2056,714,3996,509,1834,2678,2479,2893,3434,3071,2934,2886,2627,2942,2626,2069,2494,2353,1821,1915,2599,1716,2324,2373,3416,2062,2757,2384,1661,2471,4275,5820,5918,6903,5478,8419,8765,8500,9667,15484,13474,15412,17092,15563,20357,13866,16507,23539,28607,25346,22121,26014,19612,27277,25606,36758,31089,27185,23976,31584,21835,34331,29875,28793,54938,24313,49057,28234,34706,44071,62916,38576,40251,32124,37488,36108,46581,39329,37309]},\"selected\":{\"id\":\"61893\",\"type\":\"Selection\"},\"selection_policy\":{\"id\":\"61894\",\"type\":\"UnionRenderers\"}},\"id\":\"61836\",\"type\":\"ColumnDataSource\"},{\"attributes\":{},\"id\":\"63386\",\"type\":\"Selection\"},{\"attributes\":{\"callback\":null,\"mode\":\"vline\",\"renderers\":[{\"id\":\"61840\",\"type\":\"GlyphRenderer\"}],\"tooltips\":\"\\n    <div style =\\\"background-color:green;\\\">         \\n        <div>\\n            <span style=\\\"font-size: 15px; color: white;font-family:century gothic;\\\">@Recovered{0,000} Recovered</span>\\n        </div>\\n    </div>\"},\"id\":\"61898\",\"type\":\"HoverTool\"},{\"attributes\":{},\"id\":\"61863\",\"type\":\"UnionRenderers\"},{\"attributes\":{\"data_source\":{\"id\":\"61865\",\"type\":\"ColumnDataSource\"},\"glyph\":{\"id\":\"61867\",\"type\":\"Line\"},\"hover_glyph\":null,\"muted_glyph\":null,\"nonselection_glyph\":{\"id\":\"61868\",\"type\":\"Line\"},\"selection_glyph\":null,\"view\":{\"id\":\"61870\",\"type\":\"CDSView\"}},\"id\":\"61869\",\"type\":\"GlyphRenderer\"},{\"attributes\":{\"label\":{\"value\":\"Recovered\"},\"renderers\":[{\"id\":\"61840\",\"type\":\"GlyphRenderer\"}]},\"id\":\"61864\",\"type\":\"LegendItem\"},{\"attributes\":{\"base\":60,\"mantissas\":[1,2,5,10,15,20,30],\"max_interval\":1800000.0,\"min_interval\":1000.0,\"num_minor_ticks\":0},\"id\":\"61796\",\"type\":\"AdaptiveTicker\"},{\"attributes\":{\"data_source\":{\"id\":\"61836\",\"type\":\"ColumnDataSource\"},\"glyph\":{\"id\":\"61838\",\"type\":\"Line\"},\"hover_glyph\":null,\"muted_glyph\":null,\"nonselection_glyph\":{\"id\":\"61839\",\"type\":\"Line\"},\"selection_glyph\":null,\"view\":{\"id\":\"61841\",\"type\":\"CDSView\"}},\"id\":\"61840\",\"type\":\"GlyphRenderer\"},{\"attributes\":{},\"id\":\"61773\",\"type\":\"SaveTool\"},{\"attributes\":{},\"id\":\"61790\",\"type\":\"DatetimeTickFormatter\"},{\"attributes\":{\"callback\":null},\"id\":\"61750\",\"type\":\"DataRange1d\"},{\"attributes\":{},\"id\":\"61775\",\"type\":\"HelpTool\"},{\"attributes\":{\"fill_color\":{\"value\":\"Blue\"}},\"id\":\"61905\",\"type\":\"BoxAnnotation\"},{\"attributes\":{},\"id\":\"61771\",\"type\":\"WheelZoomTool\"},{\"attributes\":{\"label\":{\"value\":\"Deaths\"},\"renderers\":[{\"id\":\"61813\",\"type\":\"GlyphRenderer\"}]},\"id\":\"61835\",\"type\":\"LegendItem\"},{\"attributes\":{\"dimension\":\"lat\",\"use_scientific\":false},\"id\":\"61764\",\"type\":\"MercatorTickFormatter\"},{\"attributes\":{\"label\":{\"value\":\"Confirmed\"},\"renderers\":[{\"id\":\"61787\",\"type\":\"GlyphRenderer\"}]},\"id\":\"61808\",\"type\":\"LegendItem\"},{\"attributes\":{},\"id\":\"61894\",\"type\":\"UnionRenderers\"},{\"attributes\":{\"months\":[0,2,4,6,8,10]},\"id\":\"61803\",\"type\":\"MonthsTicker\"},{\"attributes\":{\"callback\":null,\"mode\":\"vline\",\"renderers\":[{\"id\":\"61869\",\"type\":\"GlyphRenderer\"}],\"tooltips\":\"\\n    <div style =\\\"background-color:purple;\\\">         \\n        <div>\\n            <span style=\\\"font-size: 15px; color: white;font-family:century gothic;\\\">@Active{0,000} Active</span>\\n        </div>\\n    </div>\"},\"id\":\"61900\",\"type\":\"HoverTool\"},{\"attributes\":{\"line_color\":\"blue\",\"line_width\":3,\"x\":{\"field\":\"ObservationDate\"},\"y\":{\"field\":\"Confirmed\"}},\"id\":\"61785\",\"type\":\"Line\"},{\"attributes\":{\"ticker\":{\"id\":\"61757\",\"type\":\"DatetimeTicker\"}},\"id\":\"61760\",\"type\":\"Grid\"},{\"attributes\":{},\"id\":\"61754\",\"type\":\"LinearScale\"},{\"attributes\":{\"axis_label\":\"Month\",\"axis_label_standoff\":10,\"axis_label_text_color\":{\"value\":\"#5B5B5B\"},\"axis_label_text_font\":\"Calibri Light\",\"axis_label_text_font_size\":{\"value\":\"1.15em\"},\"axis_label_text_font_style\":\"bold\",\"axis_line_alpha\":{\"value\":25},\"axis_line_color\":{\"value\":\"#5B5B5B\"},\"formatter\":{\"id\":\"61790\",\"type\":\"DatetimeTickFormatter\"},\"major_label_text_color\":{\"value\":\"#5B5B5B\"},\"major_label_text_font\":\"Calibri Light\",\"major_label_text_font_size\":{\"value\":\"0.95em\"},\"major_label_text_font_style\":\"bold\",\"major_tick_in\":0,\"major_tick_line_alpha\":{\"value\":25},\"major_tick_line_color\":{\"value\":\"#5B5B5B\"},\"major_tick_out\":3,\"minor_tick_line_alpha\":{\"value\":0},\"minor_tick_line_color\":{\"value\":\"#5B5B5B\"},\"ticker\":{\"id\":\"61757\",\"type\":\"DatetimeTicker\"}},\"id\":\"61756\",\"type\":\"DatetimeAxis\"},{\"attributes\":{\"line_alpha\":0.1,\"line_color\":\"#1f77b4\",\"line_width\":3,\"x\":{\"field\":\"ObservationDate\"},\"y\":{\"field\":\"Confirmed\"}},\"id\":\"61786\",\"type\":\"Line\"},{\"attributes\":{\"text\":\"Population Graph of India and Pakistan\",\"text_color\":{\"value\":\"#5B5B5B\"},\"text_font\":\"Calibri Light\",\"text_font_size\":{\"value\":\"1.25em\"},\"text_font_style\":\"bold\"},\"id\":\"61746\",\"type\":\"Title\"},{\"attributes\":{},\"id\":\"61774\",\"type\":\"ResetTool\"},{\"attributes\":{\"line_alpha\":0.1,\"line_color\":\"#1f77b4\",\"line_width\":3,\"x\":{\"field\":\"ObservationDate\"},\"y\":{\"field\":\"Recovered\"}},\"id\":\"61839\",\"type\":\"Line\"},{\"attributes\":{\"source\":{\"id\":\"61865\",\"type\":\"ColumnDataSource\"}},\"id\":\"61870\",\"type\":\"CDSView\"},{\"attributes\":{\"base\":24,\"mantissas\":[1,2,4,6,8,12],\"max_interval\":43200000.0,\"min_interval\":3600000.0,\"num_minor_ticks\":0},\"id\":\"61797\",\"type\":\"AdaptiveTicker\"},{\"attributes\":{\"callback\":null},\"id\":\"61748\",\"type\":\"DataRange1d\"},{\"attributes\":{},\"id\":\"61770\",\"type\":\"PanTool\"},{\"attributes\":{\"overlay\":{\"id\":\"61794\",\"type\":\"BoxAnnotation\"}},\"id\":\"61772\",\"type\":\"BoxZoomTool\"},{\"attributes\":{\"days\":[1,2,3,4,5,6,7,8,9,10,11,12,13,14,15,16,17,18,19,20,21,22,23,24,25,26,27,28,29,30,31]},\"id\":\"61798\",\"type\":\"DaysTicker\"},{\"attributes\":{\"data_source\":{\"id\":\"61783\",\"type\":\"ColumnDataSource\"},\"glyph\":{\"id\":\"61785\",\"type\":\"Line\"},\"hover_glyph\":null,\"muted_glyph\":null,\"nonselection_glyph\":{\"id\":\"61786\",\"type\":\"Line\"},\"selection_glyph\":null,\"view\":{\"id\":\"61788\",\"type\":\"CDSView\"}},\"id\":\"61787\",\"type\":\"GlyphRenderer\"},{\"attributes\":{\"active_drag\":\"auto\",\"active_inspect\":\"auto\",\"active_multi\":null,\"active_scroll\":\"auto\",\"active_tap\":\"auto\",\"tools\":[{\"id\":\"61770\",\"type\":\"PanTool\"},{\"id\":\"61771\",\"type\":\"WheelZoomTool\"},{\"id\":\"61772\",\"type\":\"BoxZoomTool\"},{\"id\":\"61773\",\"type\":\"SaveTool\"},{\"id\":\"61774\",\"type\":\"ResetTool\"},{\"id\":\"61775\",\"type\":\"HelpTool\"},{\"id\":\"61896\",\"type\":\"HoverTool\"},{\"id\":\"61898\",\"type\":\"HoverTool\"},{\"id\":\"61900\",\"type\":\"HoverTool\"},{\"id\":\"61902\",\"type\":\"HoverTool\"}]},\"id\":\"61776\",\"type\":\"Toolbar\"},{\"attributes\":{\"line_color\":\"purple\",\"line_width\":3,\"x\":{\"field\":\"ObservationDate\"},\"y\":{\"field\":\"Active\"}},\"id\":\"61867\",\"type\":\"Line\"}],\"root_ids\":[\"61745\"]},\"title\":\"Bokeh Application\",\"version\":\"1.4.0\"}};\n",
              "  var render_items = [{\"docid\":\"384a6a77-76e4-43e4-9a79-f3cb51477e84\",\"roots\":{\"61745\":\"5a544f36-94e1-4c6a-9658-0a12850d98f5\"}}];\n",
              "  root.Bokeh.embed.embed_items_notebook(docs_json, render_items);\n",
              "\n",
              "  }\n",
              "  if (root.Bokeh !== undefined) {\n",
              "    embed_document(root);\n",
              "  } else {\n",
              "    var attempts = 0;\n",
              "    var timer = setInterval(function(root) {\n",
              "      if (root.Bokeh !== undefined) {\n",
              "        clearInterval(timer);\n",
              "        embed_document(root);\n",
              "      } else {\n",
              "        attempts++;\n",
              "        if (attempts > 100) {\n",
              "          clearInterval(timer);\n",
              "          console.log(\"Bokeh: ERROR: Unable to run BokehJS code because BokehJS library is missing\");\n",
              "        }\n",
              "      }\n",
              "    }, 10, root)\n",
              "  }\n",
              "})(window);"
            ],
            "application/vnd.bokehjs_exec.v0+json": ""
          },
          "metadata": {
            "tags": [],
            "application/vnd.bokehjs_exec.v0+json": {
              "id": "61745"
            }
          }
        }
      ]
    },
    {
      "cell_type": "code",
      "metadata": {
        "id": "h3kH6bSmTpRS",
        "colab_type": "code",
        "colab": {
          "base_uri": "https://localhost:8080/",
          "height": 542
        },
        "outputId": "6c0d15bb-4709-4c96-f412-7af9dc68b470"
      },
      "source": [
        "world_cumulative = pd.DataFrame(case_data.groupby(['ObservationDate']).sum())\n",
        "\n",
        "fig = go.Figure()\n",
        "fig.add_trace(go.Scatter(x=world_cumulative.index,y=world_cumulative['Confirmed'],mode='lines',name='Confirmed',line=dict( width=4)))\n",
        "fig.add_trace(go.Scatter(x=world_cumulative.index,y=world_cumulative['Deaths'],mode='lines',name='Deaths',line=dict( width=4)))\n",
        "fig.add_trace(go.Scatter(x=world_cumulative.index,y=world_cumulative['Recovered'],mode='lines',name='Recovered',line=dict( width=4)))\n",
        "fig.add_trace(go.Scatter(x=world_cumulative.index,y=world_cumulative['Active'],mode='lines',name='Active',line=dict( width=4)))\n",
        "fig.update_layout(margin=dict(l=0,r=20,b=0,t=30,pad=0),paper_bgcolor=\"white\",)\n",
        "fig.layout.hovermode = 'x'\n",
        "fig.show()"
      ],
      "execution_count": 69,
      "outputs": [
        {
          "output_type": "display_data",
          "data": {
            "text/html": [
              "<html>\n",
              "<head><meta charset=\"utf-8\" /></head>\n",
              "<body>\n",
              "    <div>\n",
              "            <script src=\"https://cdnjs.cloudflare.com/ajax/libs/mathjax/2.7.5/MathJax.js?config=TeX-AMS-MML_SVG\"></script><script type=\"text/javascript\">if (window.MathJax) {MathJax.Hub.Config({SVG: {font: \"STIX-Web\"}});}</script>\n",
              "                <script type=\"text/javascript\">window.PlotlyConfig = {MathJaxConfig: 'local'};</script>\n",
              "        <script src=\"https://cdn.plot.ly/plotly-latest.min.js\"></script>    \n",
              "            <div id=\"3f9b0178-8d34-4e6e-9362-6da2fba98dff\" class=\"plotly-graph-div\" style=\"height:525px; width:100%;\"></div>\n",
              "            <script type=\"text/javascript\">\n",
              "                \n",
              "                    window.PLOTLYENV=window.PLOTLYENV || {};\n",
              "                    \n",
              "                if (document.getElementById(\"3f9b0178-8d34-4e6e-9362-6da2fba98dff\")) {\n",
              "                    Plotly.newPlot(\n",
              "                        '3f9b0178-8d34-4e6e-9362-6da2fba98dff',\n",
              "                        [{\"line\": {\"width\": 4}, \"mode\": \"lines\", \"name\": \"Confirmed\", \"type\": \"scatter\", \"x\": [\"2020-01-22T00:00:00\", \"2020-01-23T00:00:00\", \"2020-01-24T00:00:00\", \"2020-01-25T00:00:00\", \"2020-01-26T00:00:00\", \"2020-01-27T00:00:00\", \"2020-01-28T00:00:00\", \"2020-01-29T00:00:00\", \"2020-01-30T00:00:00\", \"2020-01-31T00:00:00\", \"2020-02-01T00:00:00\", \"2020-02-02T00:00:00\", \"2020-02-03T00:00:00\", \"2020-02-04T00:00:00\", \"2020-02-05T00:00:00\", \"2020-02-06T00:00:00\", \"2020-02-07T00:00:00\", \"2020-02-08T00:00:00\", \"2020-02-09T00:00:00\", \"2020-02-10T00:00:00\", \"2020-02-11T00:00:00\", \"2020-02-12T00:00:00\", \"2020-02-13T00:00:00\", \"2020-02-14T00:00:00\", \"2020-02-15T00:00:00\", \"2020-02-16T00:00:00\", \"2020-02-17T00:00:00\", \"2020-02-18T00:00:00\", \"2020-02-19T00:00:00\", \"2020-02-20T00:00:00\", \"2020-02-21T00:00:00\", \"2020-02-22T00:00:00\", \"2020-02-23T00:00:00\", \"2020-02-24T00:00:00\", \"2020-02-25T00:00:00\", \"2020-02-26T00:00:00\", \"2020-02-27T00:00:00\", \"2020-02-28T00:00:00\", \"2020-02-29T00:00:00\", \"2020-03-01T00:00:00\", \"2020-03-02T00:00:00\", \"2020-03-03T00:00:00\", \"2020-03-04T00:00:00\", \"2020-03-05T00:00:00\", \"2020-03-06T00:00:00\", \"2020-03-07T00:00:00\", \"2020-03-08T00:00:00\", \"2020-03-09T00:00:00\", \"2020-03-10T00:00:00\", \"2020-03-11T00:00:00\", \"2020-03-12T00:00:00\", \"2020-03-13T00:00:00\", \"2020-03-14T00:00:00\", \"2020-03-15T00:00:00\", \"2020-03-16T00:00:00\", \"2020-03-17T00:00:00\", \"2020-03-18T00:00:00\", \"2020-03-19T00:00:00\", \"2020-03-20T00:00:00\", \"2020-03-21T00:00:00\", \"2020-03-22T00:00:00\", \"2020-03-23T00:00:00\", \"2020-03-24T00:00:00\", \"2020-03-25T00:00:00\", \"2020-03-26T00:00:00\", \"2020-03-27T00:00:00\", \"2020-03-28T00:00:00\", \"2020-03-29T00:00:00\", \"2020-03-30T00:00:00\", \"2020-03-31T00:00:00\", \"2020-04-01T00:00:00\", \"2020-04-02T00:00:00\", \"2020-04-03T00:00:00\", \"2020-04-04T00:00:00\", \"2020-04-05T00:00:00\", \"2020-04-06T00:00:00\", \"2020-04-07T00:00:00\", \"2020-04-08T00:00:00\", \"2020-04-09T00:00:00\", \"2020-04-10T00:00:00\", \"2020-04-11T00:00:00\", \"2020-04-12T00:00:00\", \"2020-04-13T00:00:00\", \"2020-04-14T00:00:00\", \"2020-04-15T00:00:00\", \"2020-04-16T00:00:00\", \"2020-04-17T00:00:00\", \"2020-04-18T00:00:00\", \"2020-04-19T00:00:00\", \"2020-04-20T00:00:00\", \"2020-04-21T00:00:00\", \"2020-04-22T00:00:00\", \"2020-04-23T00:00:00\", \"2020-04-24T00:00:00\", \"2020-04-25T00:00:00\", \"2020-04-26T00:00:00\", \"2020-04-27T00:00:00\", \"2020-04-28T00:00:00\", \"2020-04-29T00:00:00\", \"2020-04-30T00:00:00\", \"2020-05-01T00:00:00\", \"2020-05-02T00:00:00\", \"2020-05-03T00:00:00\", \"2020-05-04T00:00:00\", \"2020-05-05T00:00:00\", \"2020-05-06T00:00:00\", \"2020-05-07T00:00:00\", \"2020-05-08T00:00:00\"], \"y\": [555, 654, 941, 1438, 2118, 2927, 5578, 6165, 8235, 9926, 12038, 16788, 19881, 23892, 27636, 30818, 34412, 37121, 40151, 42763, 44803, 45222, 60370, 66887, 69032, 71226, 73260, 75138, 75641, 76199, 76843, 78599, 78985, 79588, 80415, 81397, 82756, 84124, 86021, 88371, 90309, 92844, 95124, 97886, 101811, 105841, 109836, 113585, 118589, 126335, 128788, 145199, 156099, 167447, 181582, 197175, 215007, 242715, 272169, 304549, 337122, 378369, 437826, 467595, 529591, 593291, 660693, 720140, 782389, 857487, 932605, 1013355, 1095917, 1197409, 1272115, 1345108, 1426096, 1511104, 1595405, 1691719, 1771534, 1846695, 1917321, 1982781, 2056055, 2152647, 2240303, 2317760, 2401379, 2472400, 2549130, 2626197, 2708886, 2810855, 2896888, 2971476, 3041798, 3116920, 3196401, 3280310, 3343778, 3427513, 3506731, 3583056, 3662692, 3755345, 3847304, 3939545]}, {\"line\": {\"width\": 4}, \"mode\": \"lines\", \"name\": \"Deaths\", \"type\": \"scatter\", \"x\": [\"2020-01-22T00:00:00\", \"2020-01-23T00:00:00\", \"2020-01-24T00:00:00\", \"2020-01-25T00:00:00\", \"2020-01-26T00:00:00\", \"2020-01-27T00:00:00\", \"2020-01-28T00:00:00\", \"2020-01-29T00:00:00\", \"2020-01-30T00:00:00\", \"2020-01-31T00:00:00\", \"2020-02-01T00:00:00\", \"2020-02-02T00:00:00\", \"2020-02-03T00:00:00\", \"2020-02-04T00:00:00\", \"2020-02-05T00:00:00\", \"2020-02-06T00:00:00\", \"2020-02-07T00:00:00\", \"2020-02-08T00:00:00\", \"2020-02-09T00:00:00\", \"2020-02-10T00:00:00\", \"2020-02-11T00:00:00\", \"2020-02-12T00:00:00\", \"2020-02-13T00:00:00\", \"2020-02-14T00:00:00\", \"2020-02-15T00:00:00\", \"2020-02-16T00:00:00\", \"2020-02-17T00:00:00\", \"2020-02-18T00:00:00\", \"2020-02-19T00:00:00\", \"2020-02-20T00:00:00\", \"2020-02-21T00:00:00\", \"2020-02-22T00:00:00\", \"2020-02-23T00:00:00\", \"2020-02-24T00:00:00\", \"2020-02-25T00:00:00\", \"2020-02-26T00:00:00\", \"2020-02-27T00:00:00\", \"2020-02-28T00:00:00\", \"2020-02-29T00:00:00\", \"2020-03-01T00:00:00\", \"2020-03-02T00:00:00\", \"2020-03-03T00:00:00\", \"2020-03-04T00:00:00\", \"2020-03-05T00:00:00\", \"2020-03-06T00:00:00\", \"2020-03-07T00:00:00\", \"2020-03-08T00:00:00\", \"2020-03-09T00:00:00\", \"2020-03-10T00:00:00\", \"2020-03-11T00:00:00\", \"2020-03-12T00:00:00\", \"2020-03-13T00:00:00\", \"2020-03-14T00:00:00\", \"2020-03-15T00:00:00\", \"2020-03-16T00:00:00\", \"2020-03-17T00:00:00\", \"2020-03-18T00:00:00\", \"2020-03-19T00:00:00\", \"2020-03-20T00:00:00\", \"2020-03-21T00:00:00\", \"2020-03-22T00:00:00\", \"2020-03-23T00:00:00\", \"2020-03-24T00:00:00\", \"2020-03-25T00:00:00\", \"2020-03-26T00:00:00\", \"2020-03-27T00:00:00\", \"2020-03-28T00:00:00\", \"2020-03-29T00:00:00\", \"2020-03-30T00:00:00\", \"2020-03-31T00:00:00\", \"2020-04-01T00:00:00\", \"2020-04-02T00:00:00\", \"2020-04-03T00:00:00\", \"2020-04-04T00:00:00\", \"2020-04-05T00:00:00\", \"2020-04-06T00:00:00\", \"2020-04-07T00:00:00\", \"2020-04-08T00:00:00\", \"2020-04-09T00:00:00\", \"2020-04-10T00:00:00\", \"2020-04-11T00:00:00\", \"2020-04-12T00:00:00\", \"2020-04-13T00:00:00\", \"2020-04-14T00:00:00\", \"2020-04-15T00:00:00\", \"2020-04-16T00:00:00\", \"2020-04-17T00:00:00\", \"2020-04-18T00:00:00\", \"2020-04-19T00:00:00\", \"2020-04-20T00:00:00\", \"2020-04-21T00:00:00\", \"2020-04-22T00:00:00\", \"2020-04-23T00:00:00\", \"2020-04-24T00:00:00\", \"2020-04-25T00:00:00\", \"2020-04-26T00:00:00\", \"2020-04-27T00:00:00\", \"2020-04-28T00:00:00\", \"2020-04-29T00:00:00\", \"2020-04-30T00:00:00\", \"2020-05-01T00:00:00\", \"2020-05-02T00:00:00\", \"2020-05-03T00:00:00\", \"2020-05-04T00:00:00\", \"2020-05-05T00:00:00\", \"2020-05-06T00:00:00\", \"2020-05-07T00:00:00\", \"2020-05-08T00:00:00\"], \"y\": [17, 18, 26, 42, 56, 82, 131, 133, 171, 213, 259, 362, 426, 492, 564, 634, 719, 806, 906, 1013, 1113, 1118, 1371, 1523, 1666, 1770, 1868, 2007, 2122, 2247, 2251, 2458, 2469, 2629, 2708, 2770, 2814, 2872, 2941, 2996, 3085, 3160, 3254, 3348, 3460, 3558, 3803, 3996, 4270, 4623, 4728, 5404, 5819, 6440, 7131, 7905, 8733, 9869, 11300, 12977, 14625, 16497, 19475, 21182, 23973, 27198, 30652, 33925, 37587, 42107, 46809, 52983, 58788, 64607, 69376, 74566, 81867, 88338, 95456, 102525, 108533, 114092, 119487, 125993, 134177, 143801, 153822, 159510, 165044, 169986, 176583, 183067, 190858, 197153, 202848, 206544, 211167, 217166, 227638, 233388, 238716, 243869, 247470, 251538, 257240, 263831, 269568, 274902]}, {\"line\": {\"width\": 4}, \"mode\": \"lines\", \"name\": \"Recovered\", \"type\": \"scatter\", \"x\": [\"2020-01-22T00:00:00\", \"2020-01-23T00:00:00\", \"2020-01-24T00:00:00\", \"2020-01-25T00:00:00\", \"2020-01-26T00:00:00\", \"2020-01-27T00:00:00\", \"2020-01-28T00:00:00\", \"2020-01-29T00:00:00\", \"2020-01-30T00:00:00\", \"2020-01-31T00:00:00\", \"2020-02-01T00:00:00\", \"2020-02-02T00:00:00\", \"2020-02-03T00:00:00\", \"2020-02-04T00:00:00\", \"2020-02-05T00:00:00\", \"2020-02-06T00:00:00\", \"2020-02-07T00:00:00\", \"2020-02-08T00:00:00\", \"2020-02-09T00:00:00\", \"2020-02-10T00:00:00\", \"2020-02-11T00:00:00\", \"2020-02-12T00:00:00\", \"2020-02-13T00:00:00\", \"2020-02-14T00:00:00\", \"2020-02-15T00:00:00\", \"2020-02-16T00:00:00\", \"2020-02-17T00:00:00\", \"2020-02-18T00:00:00\", \"2020-02-19T00:00:00\", \"2020-02-20T00:00:00\", \"2020-02-21T00:00:00\", \"2020-02-22T00:00:00\", \"2020-02-23T00:00:00\", \"2020-02-24T00:00:00\", \"2020-02-25T00:00:00\", \"2020-02-26T00:00:00\", \"2020-02-27T00:00:00\", \"2020-02-28T00:00:00\", \"2020-02-29T00:00:00\", \"2020-03-01T00:00:00\", \"2020-03-02T00:00:00\", \"2020-03-03T00:00:00\", \"2020-03-04T00:00:00\", \"2020-03-05T00:00:00\", \"2020-03-06T00:00:00\", \"2020-03-07T00:00:00\", \"2020-03-08T00:00:00\", \"2020-03-09T00:00:00\", \"2020-03-10T00:00:00\", \"2020-03-11T00:00:00\", \"2020-03-12T00:00:00\", \"2020-03-13T00:00:00\", \"2020-03-14T00:00:00\", \"2020-03-15T00:00:00\", \"2020-03-16T00:00:00\", \"2020-03-17T00:00:00\", \"2020-03-18T00:00:00\", \"2020-03-19T00:00:00\", \"2020-03-20T00:00:00\", \"2020-03-21T00:00:00\", \"2020-03-22T00:00:00\", \"2020-03-23T00:00:00\", \"2020-03-24T00:00:00\", \"2020-03-25T00:00:00\", \"2020-03-26T00:00:00\", \"2020-03-27T00:00:00\", \"2020-03-28T00:00:00\", \"2020-03-29T00:00:00\", \"2020-03-30T00:00:00\", \"2020-03-31T00:00:00\", \"2020-04-01T00:00:00\", \"2020-04-02T00:00:00\", \"2020-04-03T00:00:00\", \"2020-04-04T00:00:00\", \"2020-04-05T00:00:00\", \"2020-04-06T00:00:00\", \"2020-04-07T00:00:00\", \"2020-04-08T00:00:00\", \"2020-04-09T00:00:00\", \"2020-04-10T00:00:00\", \"2020-04-11T00:00:00\", \"2020-04-12T00:00:00\", \"2020-04-13T00:00:00\", \"2020-04-14T00:00:00\", \"2020-04-15T00:00:00\", \"2020-04-16T00:00:00\", \"2020-04-17T00:00:00\", \"2020-04-18T00:00:00\", \"2020-04-19T00:00:00\", \"2020-04-20T00:00:00\", \"2020-04-21T00:00:00\", \"2020-04-22T00:00:00\", \"2020-04-23T00:00:00\", \"2020-04-24T00:00:00\", \"2020-04-25T00:00:00\", \"2020-04-26T00:00:00\", \"2020-04-27T00:00:00\", \"2020-04-28T00:00:00\", \"2020-04-29T00:00:00\", \"2020-04-30T00:00:00\", \"2020-05-01T00:00:00\", \"2020-05-02T00:00:00\", \"2020-05-03T00:00:00\", \"2020-05-04T00:00:00\", \"2020-05-05T00:00:00\", \"2020-05-06T00:00:00\", \"2020-05-07T00:00:00\", \"2020-05-08T00:00:00\"], \"y\": [28, 30, 36, 39, 52, 61, 107, 126, 143, 222, 284, 472, 624, 852, 1124, 1490, 2011, 2616, 3246, 3946, 4685, 5151, 6295, 8058, 9399, 10865, 12583, 14352, 16121, 18177, 18891, 22886, 23395, 25228, 27905, 30384, 33277, 36711, 39782, 42716, 45602, 48229, 51171, 53797, 55866, 58359, 60712, 62512, 64421, 67398, 68720, 70252, 72624, 76040, 78096, 80845, 83330, 84974, 87433, 91678, 97272, 100961, 109952, 113764, 122200, 130909, 139409, 149076, 164560, 178034, 193440, 210263, 225826, 246153, 260018, 276519, 300054, 328661, 354007, 376096, 402110, 421722, 448999, 474261, 511019, 542108, 569292, 592319, 623903, 645738, 680069, 709694, 738487, 793424, 817733, 865742, 893967, 928673, 972729, 1035635, 1053329, 1093578, 1125236, 1162724, 1198832, 1245413, 1284742, 1322050]}, {\"line\": {\"width\": 4}, \"mode\": \"lines\", \"name\": \"Active\", \"type\": \"scatter\", \"x\": [\"2020-01-22T00:00:00\", \"2020-01-23T00:00:00\", \"2020-01-24T00:00:00\", \"2020-01-25T00:00:00\", \"2020-01-26T00:00:00\", \"2020-01-27T00:00:00\", \"2020-01-28T00:00:00\", \"2020-01-29T00:00:00\", \"2020-01-30T00:00:00\", \"2020-01-31T00:00:00\", \"2020-02-01T00:00:00\", \"2020-02-02T00:00:00\", \"2020-02-03T00:00:00\", \"2020-02-04T00:00:00\", \"2020-02-05T00:00:00\", \"2020-02-06T00:00:00\", \"2020-02-07T00:00:00\", \"2020-02-08T00:00:00\", \"2020-02-09T00:00:00\", \"2020-02-10T00:00:00\", \"2020-02-11T00:00:00\", \"2020-02-12T00:00:00\", \"2020-02-13T00:00:00\", \"2020-02-14T00:00:00\", \"2020-02-15T00:00:00\", \"2020-02-16T00:00:00\", \"2020-02-17T00:00:00\", \"2020-02-18T00:00:00\", \"2020-02-19T00:00:00\", \"2020-02-20T00:00:00\", \"2020-02-21T00:00:00\", \"2020-02-22T00:00:00\", \"2020-02-23T00:00:00\", \"2020-02-24T00:00:00\", \"2020-02-25T00:00:00\", \"2020-02-26T00:00:00\", \"2020-02-27T00:00:00\", \"2020-02-28T00:00:00\", \"2020-02-29T00:00:00\", \"2020-03-01T00:00:00\", \"2020-03-02T00:00:00\", \"2020-03-03T00:00:00\", \"2020-03-04T00:00:00\", \"2020-03-05T00:00:00\", \"2020-03-06T00:00:00\", \"2020-03-07T00:00:00\", \"2020-03-08T00:00:00\", \"2020-03-09T00:00:00\", \"2020-03-10T00:00:00\", \"2020-03-11T00:00:00\", \"2020-03-12T00:00:00\", \"2020-03-13T00:00:00\", \"2020-03-14T00:00:00\", \"2020-03-15T00:00:00\", \"2020-03-16T00:00:00\", \"2020-03-17T00:00:00\", \"2020-03-18T00:00:00\", \"2020-03-19T00:00:00\", \"2020-03-20T00:00:00\", \"2020-03-21T00:00:00\", \"2020-03-22T00:00:00\", \"2020-03-23T00:00:00\", \"2020-03-24T00:00:00\", \"2020-03-25T00:00:00\", \"2020-03-26T00:00:00\", \"2020-03-27T00:00:00\", \"2020-03-28T00:00:00\", \"2020-03-29T00:00:00\", \"2020-03-30T00:00:00\", \"2020-03-31T00:00:00\", \"2020-04-01T00:00:00\", \"2020-04-02T00:00:00\", \"2020-04-03T00:00:00\", \"2020-04-04T00:00:00\", \"2020-04-05T00:00:00\", \"2020-04-06T00:00:00\", \"2020-04-07T00:00:00\", \"2020-04-08T00:00:00\", \"2020-04-09T00:00:00\", \"2020-04-10T00:00:00\", \"2020-04-11T00:00:00\", \"2020-04-12T00:00:00\", \"2020-04-13T00:00:00\", \"2020-04-14T00:00:00\", \"2020-04-15T00:00:00\", \"2020-04-16T00:00:00\", \"2020-04-17T00:00:00\", \"2020-04-18T00:00:00\", \"2020-04-19T00:00:00\", \"2020-04-20T00:00:00\", \"2020-04-21T00:00:00\", \"2020-04-22T00:00:00\", \"2020-04-23T00:00:00\", \"2020-04-24T00:00:00\", \"2020-04-25T00:00:00\", \"2020-04-26T00:00:00\", \"2020-04-27T00:00:00\", \"2020-04-28T00:00:00\", \"2020-04-29T00:00:00\", \"2020-04-30T00:00:00\", \"2020-05-01T00:00:00\", \"2020-05-02T00:00:00\", \"2020-05-03T00:00:00\", \"2020-05-04T00:00:00\", \"2020-05-05T00:00:00\", \"2020-05-06T00:00:00\", \"2020-05-07T00:00:00\", \"2020-05-08T00:00:00\"], \"y\": [510, 605, 879, 1357, 2010, 2784, 5340, 5906, 7921, 9490, 11495, 15953, 18832, 22548, 25948, 28697, 31662, 33699, 36001, 37804, 39007, 38954, 52704, 57306, 57971, 58591, 58809, 58779, 57398, 55775, 55702, 53255, 53122, 51714, 49802, 48243, 46665, 44541, 43290, 42659, 41622, 41455, 40699, 40741, 42474, 43919, 45337, 47074, 49916, 54247, 55299, 69538, 77656, 84973, 96332, 108423, 122869, 147884, 173465, 199900, 225256, 260828, 291648, 332649, 383477, 435184, 490632, 537139, 580247, 637352, 692625, 750057, 811334, 886650, 942729, 994021, 1044177, 1094105, 1145920, 1213098, 1260902, 1310869, 1349183, 1375947, 1410859, 1466739, 1518026, 1565930, 1612432, 1656535, 1692721, 1731200, 1779541, 1820144, 1877215, 1899198, 1936630, 1970587, 1993529, 2008705, 2051800, 2090423, 2134023, 2168794, 2206620, 2246097, 2291410, 2341116]}],\n",
              "                        {\"hovermode\": \"x\", \"margin\": {\"b\": 0, \"l\": 0, \"pad\": 0, \"r\": 20, \"t\": 30}, \"paper_bgcolor\": \"white\", \"template\": {\"data\": {\"bar\": [{\"error_x\": {\"color\": \"#2a3f5f\"}, \"error_y\": {\"color\": \"#2a3f5f\"}, \"marker\": {\"line\": {\"color\": \"#E5ECF6\", \"width\": 0.5}}, \"type\": \"bar\"}], \"barpolar\": [{\"marker\": {\"line\": {\"color\": \"#E5ECF6\", \"width\": 0.5}}, \"type\": \"barpolar\"}], \"carpet\": [{\"aaxis\": {\"endlinecolor\": \"#2a3f5f\", \"gridcolor\": \"white\", \"linecolor\": \"white\", \"minorgridcolor\": \"white\", \"startlinecolor\": \"#2a3f5f\"}, \"baxis\": {\"endlinecolor\": \"#2a3f5f\", \"gridcolor\": \"white\", \"linecolor\": \"white\", \"minorgridcolor\": \"white\", \"startlinecolor\": \"#2a3f5f\"}, \"type\": \"carpet\"}], \"choropleth\": [{\"colorbar\": {\"outlinewidth\": 0, \"ticks\": \"\"}, \"type\": \"choropleth\"}], \"contour\": [{\"colorbar\": {\"outlinewidth\": 0, \"ticks\": \"\"}, \"colorscale\": [[0.0, \"#0d0887\"], [0.1111111111111111, \"#46039f\"], [0.2222222222222222, \"#7201a8\"], [0.3333333333333333, \"#9c179e\"], [0.4444444444444444, \"#bd3786\"], [0.5555555555555556, \"#d8576b\"], [0.6666666666666666, \"#ed7953\"], [0.7777777777777778, \"#fb9f3a\"], [0.8888888888888888, \"#fdca26\"], [1.0, \"#f0f921\"]], \"type\": \"contour\"}], \"contourcarpet\": [{\"colorbar\": {\"outlinewidth\": 0, \"ticks\": \"\"}, \"type\": \"contourcarpet\"}], \"heatmap\": [{\"colorbar\": {\"outlinewidth\": 0, \"ticks\": \"\"}, \"colorscale\": [[0.0, \"#0d0887\"], [0.1111111111111111, \"#46039f\"], [0.2222222222222222, \"#7201a8\"], [0.3333333333333333, \"#9c179e\"], [0.4444444444444444, \"#bd3786\"], [0.5555555555555556, \"#d8576b\"], [0.6666666666666666, \"#ed7953\"], [0.7777777777777778, \"#fb9f3a\"], [0.8888888888888888, \"#fdca26\"], [1.0, \"#f0f921\"]], \"type\": \"heatmap\"}], \"heatmapgl\": [{\"colorbar\": {\"outlinewidth\": 0, \"ticks\": \"\"}, \"colorscale\": [[0.0, \"#0d0887\"], [0.1111111111111111, \"#46039f\"], [0.2222222222222222, \"#7201a8\"], [0.3333333333333333, \"#9c179e\"], [0.4444444444444444, \"#bd3786\"], [0.5555555555555556, \"#d8576b\"], [0.6666666666666666, \"#ed7953\"], [0.7777777777777778, \"#fb9f3a\"], [0.8888888888888888, \"#fdca26\"], [1.0, \"#f0f921\"]], \"type\": \"heatmapgl\"}], \"histogram\": [{\"marker\": {\"colorbar\": {\"outlinewidth\": 0, \"ticks\": \"\"}}, \"type\": \"histogram\"}], \"histogram2d\": [{\"colorbar\": {\"outlinewidth\": 0, \"ticks\": \"\"}, \"colorscale\": [[0.0, \"#0d0887\"], [0.1111111111111111, \"#46039f\"], [0.2222222222222222, \"#7201a8\"], [0.3333333333333333, \"#9c179e\"], [0.4444444444444444, \"#bd3786\"], [0.5555555555555556, \"#d8576b\"], [0.6666666666666666, \"#ed7953\"], [0.7777777777777778, \"#fb9f3a\"], [0.8888888888888888, \"#fdca26\"], [1.0, \"#f0f921\"]], \"type\": \"histogram2d\"}], \"histogram2dcontour\": [{\"colorbar\": {\"outlinewidth\": 0, \"ticks\": \"\"}, \"colorscale\": [[0.0, \"#0d0887\"], [0.1111111111111111, \"#46039f\"], [0.2222222222222222, \"#7201a8\"], [0.3333333333333333, \"#9c179e\"], [0.4444444444444444, \"#bd3786\"], [0.5555555555555556, \"#d8576b\"], [0.6666666666666666, \"#ed7953\"], [0.7777777777777778, \"#fb9f3a\"], [0.8888888888888888, \"#fdca26\"], [1.0, \"#f0f921\"]], \"type\": \"histogram2dcontour\"}], \"mesh3d\": [{\"colorbar\": {\"outlinewidth\": 0, \"ticks\": \"\"}, \"type\": \"mesh3d\"}], \"parcoords\": [{\"line\": {\"colorbar\": {\"outlinewidth\": 0, \"ticks\": \"\"}}, \"type\": \"parcoords\"}], \"pie\": [{\"automargin\": true, \"type\": \"pie\"}], \"scatter\": [{\"marker\": {\"colorbar\": {\"outlinewidth\": 0, \"ticks\": \"\"}}, \"type\": \"scatter\"}], \"scatter3d\": [{\"line\": {\"colorbar\": {\"outlinewidth\": 0, \"ticks\": \"\"}}, \"marker\": {\"colorbar\": {\"outlinewidth\": 0, \"ticks\": \"\"}}, \"type\": \"scatter3d\"}], \"scattercarpet\": [{\"marker\": {\"colorbar\": {\"outlinewidth\": 0, \"ticks\": \"\"}}, \"type\": \"scattercarpet\"}], \"scattergeo\": [{\"marker\": {\"colorbar\": {\"outlinewidth\": 0, \"ticks\": \"\"}}, \"type\": \"scattergeo\"}], \"scattergl\": [{\"marker\": {\"colorbar\": {\"outlinewidth\": 0, \"ticks\": \"\"}}, \"type\": \"scattergl\"}], \"scattermapbox\": [{\"marker\": {\"colorbar\": {\"outlinewidth\": 0, \"ticks\": \"\"}}, \"type\": \"scattermapbox\"}], \"scatterpolar\": [{\"marker\": {\"colorbar\": {\"outlinewidth\": 0, \"ticks\": \"\"}}, \"type\": \"scatterpolar\"}], \"scatterpolargl\": [{\"marker\": {\"colorbar\": {\"outlinewidth\": 0, \"ticks\": \"\"}}, \"type\": \"scatterpolargl\"}], \"scatterternary\": [{\"marker\": {\"colorbar\": {\"outlinewidth\": 0, \"ticks\": \"\"}}, \"type\": \"scatterternary\"}], \"surface\": [{\"colorbar\": {\"outlinewidth\": 0, \"ticks\": \"\"}, \"colorscale\": [[0.0, \"#0d0887\"], [0.1111111111111111, \"#46039f\"], [0.2222222222222222, \"#7201a8\"], [0.3333333333333333, \"#9c179e\"], [0.4444444444444444, \"#bd3786\"], [0.5555555555555556, \"#d8576b\"], [0.6666666666666666, \"#ed7953\"], [0.7777777777777778, \"#fb9f3a\"], [0.8888888888888888, \"#fdca26\"], [1.0, \"#f0f921\"]], \"type\": \"surface\"}], \"table\": [{\"cells\": {\"fill\": {\"color\": \"#EBF0F8\"}, \"line\": {\"color\": \"white\"}}, \"header\": {\"fill\": {\"color\": \"#C8D4E3\"}, \"line\": {\"color\": \"white\"}}, \"type\": \"table\"}]}, \"layout\": {\"annotationdefaults\": {\"arrowcolor\": \"#2a3f5f\", \"arrowhead\": 0, \"arrowwidth\": 1}, \"coloraxis\": {\"colorbar\": {\"outlinewidth\": 0, \"ticks\": \"\"}}, \"colorscale\": {\"diverging\": [[0, \"#8e0152\"], [0.1, \"#c51b7d\"], [0.2, \"#de77ae\"], [0.3, \"#f1b6da\"], [0.4, \"#fde0ef\"], [0.5, \"#f7f7f7\"], [0.6, \"#e6f5d0\"], [0.7, \"#b8e186\"], [0.8, \"#7fbc41\"], [0.9, \"#4d9221\"], [1, \"#276419\"]], \"sequential\": [[0.0, \"#0d0887\"], [0.1111111111111111, \"#46039f\"], [0.2222222222222222, \"#7201a8\"], [0.3333333333333333, \"#9c179e\"], [0.4444444444444444, \"#bd3786\"], [0.5555555555555556, \"#d8576b\"], [0.6666666666666666, \"#ed7953\"], [0.7777777777777778, \"#fb9f3a\"], [0.8888888888888888, \"#fdca26\"], [1.0, \"#f0f921\"]], \"sequentialminus\": [[0.0, \"#0d0887\"], [0.1111111111111111, \"#46039f\"], [0.2222222222222222, \"#7201a8\"], [0.3333333333333333, \"#9c179e\"], [0.4444444444444444, \"#bd3786\"], [0.5555555555555556, \"#d8576b\"], [0.6666666666666666, \"#ed7953\"], [0.7777777777777778, \"#fb9f3a\"], [0.8888888888888888, \"#fdca26\"], [1.0, \"#f0f921\"]]}, \"colorway\": [\"#636efa\", \"#EF553B\", \"#00cc96\", \"#ab63fa\", \"#FFA15A\", \"#19d3f3\", \"#FF6692\", \"#B6E880\", \"#FF97FF\", \"#FECB52\"], \"font\": {\"color\": \"#2a3f5f\"}, \"geo\": {\"bgcolor\": \"white\", \"lakecolor\": \"white\", \"landcolor\": \"#E5ECF6\", \"showlakes\": true, \"showland\": true, \"subunitcolor\": \"white\"}, \"hoverlabel\": {\"align\": \"left\"}, \"hovermode\": \"closest\", \"mapbox\": {\"style\": \"light\"}, \"paper_bgcolor\": \"white\", \"plot_bgcolor\": \"#E5ECF6\", \"polar\": {\"angularaxis\": {\"gridcolor\": \"white\", \"linecolor\": \"white\", \"ticks\": \"\"}, \"bgcolor\": \"#E5ECF6\", \"radialaxis\": {\"gridcolor\": \"white\", \"linecolor\": \"white\", \"ticks\": \"\"}}, \"scene\": {\"xaxis\": {\"backgroundcolor\": \"#E5ECF6\", \"gridcolor\": \"white\", \"gridwidth\": 2, \"linecolor\": \"white\", \"showbackground\": true, \"ticks\": \"\", \"zerolinecolor\": \"white\"}, \"yaxis\": {\"backgroundcolor\": \"#E5ECF6\", \"gridcolor\": \"white\", \"gridwidth\": 2, \"linecolor\": \"white\", \"showbackground\": true, \"ticks\": \"\", \"zerolinecolor\": \"white\"}, \"zaxis\": {\"backgroundcolor\": \"#E5ECF6\", \"gridcolor\": \"white\", \"gridwidth\": 2, \"linecolor\": \"white\", \"showbackground\": true, \"ticks\": \"\", \"zerolinecolor\": \"white\"}}, \"shapedefaults\": {\"line\": {\"color\": \"#2a3f5f\"}}, \"ternary\": {\"aaxis\": {\"gridcolor\": \"white\", \"linecolor\": \"white\", \"ticks\": \"\"}, \"baxis\": {\"gridcolor\": \"white\", \"linecolor\": \"white\", \"ticks\": \"\"}, \"bgcolor\": \"#E5ECF6\", \"caxis\": {\"gridcolor\": \"white\", \"linecolor\": \"white\", \"ticks\": \"\"}}, \"title\": {\"x\": 0.05}, \"xaxis\": {\"automargin\": true, \"gridcolor\": \"white\", \"linecolor\": \"white\", \"ticks\": \"\", \"title\": {\"standoff\": 15}, \"zerolinecolor\": \"white\", \"zerolinewidth\": 2}, \"yaxis\": {\"automargin\": true, \"gridcolor\": \"white\", \"linecolor\": \"white\", \"ticks\": \"\", \"title\": {\"standoff\": 15}, \"zerolinecolor\": \"white\", \"zerolinewidth\": 2}}}},\n",
              "                        {\"responsive\": true}\n",
              "                    ).then(function(){\n",
              "                            \n",
              "var gd = document.getElementById('3f9b0178-8d34-4e6e-9362-6da2fba98dff');\n",
              "var x = new MutationObserver(function (mutations, observer) {{\n",
              "        var display = window.getComputedStyle(gd).display;\n",
              "        if (!display || display === 'none') {{\n",
              "            console.log([gd, 'removed!']);\n",
              "            Plotly.purge(gd);\n",
              "            observer.disconnect();\n",
              "        }}\n",
              "}});\n",
              "\n",
              "// Listen for the removal of the full notebook cells\n",
              "var notebookContainer = gd.closest('#notebook-container');\n",
              "if (notebookContainer) {{\n",
              "    x.observe(notebookContainer, {childList: true});\n",
              "}}\n",
              "\n",
              "// Listen for the clearing of the current output cell\n",
              "var outputEl = gd.closest('.output');\n",
              "if (outputEl) {{\n",
              "    x.observe(outputEl, {childList: true});\n",
              "}}\n",
              "\n",
              "                        })\n",
              "                };\n",
              "                \n",
              "            </script>\n",
              "        </div>\n",
              "</body>\n",
              "</html>"
            ]
          },
          "metadata": {
            "tags": []
          }
        }
      ]
    },
    {
      "cell_type": "code",
      "metadata": {
        "id": "cprhatHuTq0N",
        "colab_type": "code",
        "colab": {
          "base_uri": "https://localhost:8080/",
          "height": 542
        },
        "outputId": "5bf8e1eb-38bc-4ee9-c699-31bd10330b54"
      },
      "source": [
        "world_daily_cumulative = pd.DataFrame(case_data.groupby(['ObservationDate']).sum())\n",
        "\n",
        "fig = go.Figure()\n",
        "fig.add_trace(go.Scatter(x=world_daily_cumulative.index,y=world_daily_cumulative['new_confirmed'],mode='lines',name='Confirmed',line=dict( width=4)))\n",
        "fig.add_trace(go.Scatter(x=world_daily_cumulative.index,y=world_daily_cumulative['new_deaths'],mode='lines',name='Deaths',line=dict( width=4)))\n",
        "fig.add_trace(go.Scatter(x=world_daily_cumulative.index,y=world_daily_cumulative['new_recovered'],mode='lines',name='Recovered',line=dict( width=4)))\n",
        "fig.update_layout(margin=dict(l=0,r=20,b=0,t=30,pad=0),paper_bgcolor=\"white\",)\n",
        "fig.layout.hovermode = 'x'\n",
        "fig.show()"
      ],
      "execution_count": 74,
      "outputs": [
        {
          "output_type": "display_data",
          "data": {
            "text/html": [
              "<html>\n",
              "<head><meta charset=\"utf-8\" /></head>\n",
              "<body>\n",
              "    <div>\n",
              "            <script src=\"https://cdnjs.cloudflare.com/ajax/libs/mathjax/2.7.5/MathJax.js?config=TeX-AMS-MML_SVG\"></script><script type=\"text/javascript\">if (window.MathJax) {MathJax.Hub.Config({SVG: {font: \"STIX-Web\"}});}</script>\n",
              "                <script type=\"text/javascript\">window.PlotlyConfig = {MathJaxConfig: 'local'};</script>\n",
              "        <script src=\"https://cdn.plot.ly/plotly-latest.min.js\"></script>    \n",
              "            <div id=\"4813bec3-2b4f-48f5-a4dd-1b5aa6b36496\" class=\"plotly-graph-div\" style=\"height:525px; width:100%;\"></div>\n",
              "            <script type=\"text/javascript\">\n",
              "                \n",
              "                    window.PLOTLYENV=window.PLOTLYENV || {};\n",
              "                    \n",
              "                if (document.getElementById(\"4813bec3-2b4f-48f5-a4dd-1b5aa6b36496\")) {\n",
              "                    Plotly.newPlot(\n",
              "                        '4813bec3-2b4f-48f5-a4dd-1b5aa6b36496',\n",
              "                        [{\"line\": {\"width\": 4}, \"mode\": \"lines\", \"name\": \"Confirmed\", \"type\": \"scatter\", \"x\": [\"2020-01-22T00:00:00\", \"2020-01-23T00:00:00\", \"2020-01-24T00:00:00\", \"2020-01-25T00:00:00\", \"2020-01-26T00:00:00\", \"2020-01-27T00:00:00\", \"2020-01-28T00:00:00\", \"2020-01-29T00:00:00\", \"2020-01-30T00:00:00\", \"2020-01-31T00:00:00\", \"2020-02-01T00:00:00\", \"2020-02-02T00:00:00\", \"2020-02-03T00:00:00\", \"2020-02-04T00:00:00\", \"2020-02-05T00:00:00\", \"2020-02-06T00:00:00\", \"2020-02-07T00:00:00\", \"2020-02-08T00:00:00\", \"2020-02-09T00:00:00\", \"2020-02-10T00:00:00\", \"2020-02-11T00:00:00\", \"2020-02-12T00:00:00\", \"2020-02-13T00:00:00\", \"2020-02-14T00:00:00\", \"2020-02-15T00:00:00\", \"2020-02-16T00:00:00\", \"2020-02-17T00:00:00\", \"2020-02-18T00:00:00\", \"2020-02-19T00:00:00\", \"2020-02-20T00:00:00\", \"2020-02-21T00:00:00\", \"2020-02-22T00:00:00\", \"2020-02-23T00:00:00\", \"2020-02-24T00:00:00\", \"2020-02-25T00:00:00\", \"2020-02-26T00:00:00\", \"2020-02-27T00:00:00\", \"2020-02-28T00:00:00\", \"2020-02-29T00:00:00\", \"2020-03-01T00:00:00\", \"2020-03-02T00:00:00\", \"2020-03-03T00:00:00\", \"2020-03-04T00:00:00\", \"2020-03-05T00:00:00\", \"2020-03-06T00:00:00\", \"2020-03-07T00:00:00\", \"2020-03-08T00:00:00\", \"2020-03-09T00:00:00\", \"2020-03-10T00:00:00\", \"2020-03-11T00:00:00\", \"2020-03-12T00:00:00\", \"2020-03-13T00:00:00\", \"2020-03-14T00:00:00\", \"2020-03-15T00:00:00\", \"2020-03-16T00:00:00\", \"2020-03-17T00:00:00\", \"2020-03-18T00:00:00\", \"2020-03-19T00:00:00\", \"2020-03-20T00:00:00\", \"2020-03-21T00:00:00\", \"2020-03-22T00:00:00\", \"2020-03-23T00:00:00\", \"2020-03-24T00:00:00\", \"2020-03-25T00:00:00\", \"2020-03-26T00:00:00\", \"2020-03-27T00:00:00\", \"2020-03-28T00:00:00\", \"2020-03-29T00:00:00\", \"2020-03-30T00:00:00\", \"2020-03-31T00:00:00\", \"2020-04-01T00:00:00\", \"2020-04-02T00:00:00\", \"2020-04-03T00:00:00\", \"2020-04-04T00:00:00\", \"2020-04-05T00:00:00\", \"2020-04-06T00:00:00\", \"2020-04-07T00:00:00\", \"2020-04-08T00:00:00\", \"2020-04-09T00:00:00\", \"2020-04-10T00:00:00\", \"2020-04-11T00:00:00\", \"2020-04-12T00:00:00\", \"2020-04-13T00:00:00\", \"2020-04-14T00:00:00\", \"2020-04-15T00:00:00\", \"2020-04-16T00:00:00\", \"2020-04-17T00:00:00\", \"2020-04-18T00:00:00\", \"2020-04-19T00:00:00\", \"2020-04-20T00:00:00\", \"2020-04-21T00:00:00\", \"2020-04-22T00:00:00\", \"2020-04-23T00:00:00\", \"2020-04-24T00:00:00\", \"2020-04-25T00:00:00\", \"2020-04-26T00:00:00\", \"2020-04-27T00:00:00\", \"2020-04-28T00:00:00\", \"2020-04-29T00:00:00\", \"2020-04-30T00:00:00\", \"2020-05-01T00:00:00\", \"2020-05-02T00:00:00\", \"2020-05-03T00:00:00\", \"2020-05-04T00:00:00\", \"2020-05-05T00:00:00\", \"2020-05-06T00:00:00\", \"2020-05-07T00:00:00\", \"2020-05-08T00:00:00\"], \"y\": [0, 96, 285, 496, 676, 805, 2647, 582, 2066, 1684, 2106, 4750, 3092, 4010, 3743, 3182, 3533, 2729, 3027, 2612, 2039, 419, 15147, 6516, 2145, 2194, 2034, 1878, 501, 558, 618, 1756, 386, 561, 840, 974, 1355, 1360, 1891, 2343, 1914, 2524, 2266, 2741, 3878, 3967, 3933, 3775, 5069, 6545, 2919, 16929, 10873, 11338, 13828, 15615, 17823, 27787, 29451, 32377, 53384, 57269, 44234, 48915, 61907, 63692, 67392, 59447, 62246, 75095, 75118, 80745, 82614, 101491, 74701, 72989, 80995, 85008, 84301, 96368, 79815, 75181, 70641, 65461, 79863, 96592, 87656, 77569, 83620, 71021, 76871, 77087, 84926, 102797, 86173, 74730, 69483, 75156, 80003, 86408, 86932, 83736, 79388, 76327, 79637, 92654, 91963, 93827]}, {\"line\": {\"width\": 4}, \"mode\": \"lines\", \"name\": \"Deaths\", \"type\": \"scatter\", \"x\": [\"2020-01-22T00:00:00\", \"2020-01-23T00:00:00\", \"2020-01-24T00:00:00\", \"2020-01-25T00:00:00\", \"2020-01-26T00:00:00\", \"2020-01-27T00:00:00\", \"2020-01-28T00:00:00\", \"2020-01-29T00:00:00\", \"2020-01-30T00:00:00\", \"2020-01-31T00:00:00\", \"2020-02-01T00:00:00\", \"2020-02-02T00:00:00\", \"2020-02-03T00:00:00\", \"2020-02-04T00:00:00\", \"2020-02-05T00:00:00\", \"2020-02-06T00:00:00\", \"2020-02-07T00:00:00\", \"2020-02-08T00:00:00\", \"2020-02-09T00:00:00\", \"2020-02-10T00:00:00\", \"2020-02-11T00:00:00\", \"2020-02-12T00:00:00\", \"2020-02-13T00:00:00\", \"2020-02-14T00:00:00\", \"2020-02-15T00:00:00\", \"2020-02-16T00:00:00\", \"2020-02-17T00:00:00\", \"2020-02-18T00:00:00\", \"2020-02-19T00:00:00\", \"2020-02-20T00:00:00\", \"2020-02-21T00:00:00\", \"2020-02-22T00:00:00\", \"2020-02-23T00:00:00\", \"2020-02-24T00:00:00\", \"2020-02-25T00:00:00\", \"2020-02-26T00:00:00\", \"2020-02-27T00:00:00\", \"2020-02-28T00:00:00\", \"2020-02-29T00:00:00\", \"2020-03-01T00:00:00\", \"2020-03-02T00:00:00\", \"2020-03-03T00:00:00\", \"2020-03-04T00:00:00\", \"2020-03-05T00:00:00\", \"2020-03-06T00:00:00\", \"2020-03-07T00:00:00\", \"2020-03-08T00:00:00\", \"2020-03-09T00:00:00\", \"2020-03-10T00:00:00\", \"2020-03-11T00:00:00\", \"2020-03-12T00:00:00\", \"2020-03-13T00:00:00\", \"2020-03-14T00:00:00\", \"2020-03-15T00:00:00\", \"2020-03-16T00:00:00\", \"2020-03-17T00:00:00\", \"2020-03-18T00:00:00\", \"2020-03-19T00:00:00\", \"2020-03-20T00:00:00\", \"2020-03-21T00:00:00\", \"2020-03-22T00:00:00\", \"2020-03-23T00:00:00\", \"2020-03-24T00:00:00\", \"2020-03-25T00:00:00\", \"2020-03-26T00:00:00\", \"2020-03-27T00:00:00\", \"2020-03-28T00:00:00\", \"2020-03-29T00:00:00\", \"2020-03-30T00:00:00\", \"2020-03-31T00:00:00\", \"2020-04-01T00:00:00\", \"2020-04-02T00:00:00\", \"2020-04-03T00:00:00\", \"2020-04-04T00:00:00\", \"2020-04-05T00:00:00\", \"2020-04-06T00:00:00\", \"2020-04-07T00:00:00\", \"2020-04-08T00:00:00\", \"2020-04-09T00:00:00\", \"2020-04-10T00:00:00\", \"2020-04-11T00:00:00\", \"2020-04-12T00:00:00\", \"2020-04-13T00:00:00\", \"2020-04-14T00:00:00\", \"2020-04-15T00:00:00\", \"2020-04-16T00:00:00\", \"2020-04-17T00:00:00\", \"2020-04-18T00:00:00\", \"2020-04-19T00:00:00\", \"2020-04-20T00:00:00\", \"2020-04-21T00:00:00\", \"2020-04-22T00:00:00\", \"2020-04-23T00:00:00\", \"2020-04-24T00:00:00\", \"2020-04-25T00:00:00\", \"2020-04-26T00:00:00\", \"2020-04-27T00:00:00\", \"2020-04-28T00:00:00\", \"2020-04-29T00:00:00\", \"2020-04-30T00:00:00\", \"2020-05-01T00:00:00\", \"2020-05-02T00:00:00\", \"2020-05-03T00:00:00\", \"2020-05-04T00:00:00\", \"2020-05-05T00:00:00\", \"2020-05-06T00:00:00\", \"2020-05-07T00:00:00\", \"2020-05-08T00:00:00\"], \"y\": [0, 1, 8, 16, 14, 26, 49, 2, 38, 42, 46, 103, 64, 66, 72, 70, 85, 87, 100, 107, 100, 5, 253, 152, 143, 104, 98, 139, 113, 125, 4, 207, 11, 160, 79, 62, 44, 58, 69, 55, 85, 75, 94, 94, 112, 98, 245, 193, 293, 336, 112, 691, 415, 621, 686, 779, 828, 1136, 1433, 1678, 2536, 2548, 2312, 2557, 2791, 3228, 3454, 3273, 3662, 4525, 4702, 6174, 5805, 5820, 4770, 5192, 7302, 6473, 7118, 7070, 6008, 5591, 5398, 6511, 8193, 9624, 10021, 5688, 5534, 4942, 6597, 6484, 7791, 6311, 5697, 3698, 4607, 5999, 10485, 5750, 5328, 5219, 3662, 4068, 5703, 6592, 5737, 5335]}, {\"line\": {\"width\": 4}, \"mode\": \"lines\", \"name\": \"Recovered\", \"type\": \"scatter\", \"x\": [\"2020-01-22T00:00:00\", \"2020-01-23T00:00:00\", \"2020-01-24T00:00:00\", \"2020-01-25T00:00:00\", \"2020-01-26T00:00:00\", \"2020-01-27T00:00:00\", \"2020-01-28T00:00:00\", \"2020-01-29T00:00:00\", \"2020-01-30T00:00:00\", \"2020-01-31T00:00:00\", \"2020-02-01T00:00:00\", \"2020-02-02T00:00:00\", \"2020-02-03T00:00:00\", \"2020-02-04T00:00:00\", \"2020-02-05T00:00:00\", \"2020-02-06T00:00:00\", \"2020-02-07T00:00:00\", \"2020-02-08T00:00:00\", \"2020-02-09T00:00:00\", \"2020-02-10T00:00:00\", \"2020-02-11T00:00:00\", \"2020-02-12T00:00:00\", \"2020-02-13T00:00:00\", \"2020-02-14T00:00:00\", \"2020-02-15T00:00:00\", \"2020-02-16T00:00:00\", \"2020-02-17T00:00:00\", \"2020-02-18T00:00:00\", \"2020-02-19T00:00:00\", \"2020-02-20T00:00:00\", \"2020-02-21T00:00:00\", \"2020-02-22T00:00:00\", \"2020-02-23T00:00:00\", \"2020-02-24T00:00:00\", \"2020-02-25T00:00:00\", \"2020-02-26T00:00:00\", \"2020-02-27T00:00:00\", \"2020-02-28T00:00:00\", \"2020-02-29T00:00:00\", \"2020-03-01T00:00:00\", \"2020-03-02T00:00:00\", \"2020-03-03T00:00:00\", \"2020-03-04T00:00:00\", \"2020-03-05T00:00:00\", \"2020-03-06T00:00:00\", \"2020-03-07T00:00:00\", \"2020-03-08T00:00:00\", \"2020-03-09T00:00:00\", \"2020-03-10T00:00:00\", \"2020-03-11T00:00:00\", \"2020-03-12T00:00:00\", \"2020-03-13T00:00:00\", \"2020-03-14T00:00:00\", \"2020-03-15T00:00:00\", \"2020-03-16T00:00:00\", \"2020-03-17T00:00:00\", \"2020-03-18T00:00:00\", \"2020-03-19T00:00:00\", \"2020-03-20T00:00:00\", \"2020-03-21T00:00:00\", \"2020-03-22T00:00:00\", \"2020-03-23T00:00:00\", \"2020-03-24T00:00:00\", \"2020-03-25T00:00:00\", \"2020-03-26T00:00:00\", \"2020-03-27T00:00:00\", \"2020-03-28T00:00:00\", \"2020-03-29T00:00:00\", \"2020-03-30T00:00:00\", \"2020-03-31T00:00:00\", \"2020-04-01T00:00:00\", \"2020-04-02T00:00:00\", \"2020-04-03T00:00:00\", \"2020-04-04T00:00:00\", \"2020-04-05T00:00:00\", \"2020-04-06T00:00:00\", \"2020-04-07T00:00:00\", \"2020-04-08T00:00:00\", \"2020-04-09T00:00:00\", \"2020-04-10T00:00:00\", \"2020-04-11T00:00:00\", \"2020-04-12T00:00:00\", \"2020-04-13T00:00:00\", \"2020-04-14T00:00:00\", \"2020-04-15T00:00:00\", \"2020-04-16T00:00:00\", \"2020-04-17T00:00:00\", \"2020-04-18T00:00:00\", \"2020-04-19T00:00:00\", \"2020-04-20T00:00:00\", \"2020-04-21T00:00:00\", \"2020-04-22T00:00:00\", \"2020-04-23T00:00:00\", \"2020-04-24T00:00:00\", \"2020-04-25T00:00:00\", \"2020-04-26T00:00:00\", \"2020-04-27T00:00:00\", \"2020-04-28T00:00:00\", \"2020-04-29T00:00:00\", \"2020-04-30T00:00:00\", \"2020-05-01T00:00:00\", \"2020-05-02T00:00:00\", \"2020-05-03T00:00:00\", \"2020-05-04T00:00:00\", \"2020-05-05T00:00:00\", \"2020-05-06T00:00:00\", \"2020-05-07T00:00:00\", \"2020-05-08T00:00:00\"], \"y\": [0, 2, 6, 3, 13, 9, 46, 19, 17, 79, 62, 188, 152, 229, 272, 366, 524, 605, 630, 702, 739, 468, 1145, 1763, 1341, 1470, 1718, 1769, 1769, 2056, 714, 3996, 509, 1834, 2678, 2479, 2893, 3434, 3071, 2934, 2886, 2627, 2942, 2626, 2069, 2494, 2353, 1821, 1915, 2599, 1716, 2324, 2373, 3416, 2062, 2757, 2384, 1661, 2471, 4275, 5820, 5918, 6903, 5478, 8419, 8765, 8500, 9667, 15484, 13474, 15412, 17092, 15563, 20357, 13866, 16507, 23539, 28607, 25346, 22121, 26014, 19612, 27277, 25606, 36758, 31089, 27185, 23976, 31584, 21835, 34331, 29875, 28793, 54938, 24313, 49057, 28234, 34706, 44071, 62916, 38576, 40251, 32124, 37488, 36108, 46581, 39329, 37309]}],\n",
              "                        {\"hovermode\": \"x\", \"margin\": {\"b\": 0, \"l\": 0, \"pad\": 0, \"r\": 20, \"t\": 30}, \"paper_bgcolor\": \"white\", \"template\": {\"data\": {\"bar\": [{\"error_x\": {\"color\": \"#2a3f5f\"}, \"error_y\": {\"color\": \"#2a3f5f\"}, \"marker\": {\"line\": {\"color\": \"#E5ECF6\", \"width\": 0.5}}, \"type\": \"bar\"}], \"barpolar\": [{\"marker\": {\"line\": {\"color\": \"#E5ECF6\", \"width\": 0.5}}, \"type\": \"barpolar\"}], \"carpet\": [{\"aaxis\": {\"endlinecolor\": \"#2a3f5f\", \"gridcolor\": \"white\", \"linecolor\": \"white\", \"minorgridcolor\": \"white\", \"startlinecolor\": \"#2a3f5f\"}, \"baxis\": {\"endlinecolor\": \"#2a3f5f\", \"gridcolor\": \"white\", \"linecolor\": \"white\", \"minorgridcolor\": \"white\", \"startlinecolor\": \"#2a3f5f\"}, \"type\": \"carpet\"}], \"choropleth\": [{\"colorbar\": {\"outlinewidth\": 0, \"ticks\": \"\"}, \"type\": \"choropleth\"}], \"contour\": [{\"colorbar\": {\"outlinewidth\": 0, \"ticks\": \"\"}, \"colorscale\": [[0.0, \"#0d0887\"], [0.1111111111111111, \"#46039f\"], [0.2222222222222222, \"#7201a8\"], [0.3333333333333333, \"#9c179e\"], [0.4444444444444444, \"#bd3786\"], [0.5555555555555556, \"#d8576b\"], [0.6666666666666666, \"#ed7953\"], [0.7777777777777778, \"#fb9f3a\"], [0.8888888888888888, \"#fdca26\"], [1.0, \"#f0f921\"]], \"type\": \"contour\"}], \"contourcarpet\": [{\"colorbar\": {\"outlinewidth\": 0, \"ticks\": \"\"}, \"type\": \"contourcarpet\"}], \"heatmap\": [{\"colorbar\": {\"outlinewidth\": 0, \"ticks\": \"\"}, \"colorscale\": [[0.0, \"#0d0887\"], [0.1111111111111111, \"#46039f\"], [0.2222222222222222, \"#7201a8\"], [0.3333333333333333, \"#9c179e\"], [0.4444444444444444, \"#bd3786\"], [0.5555555555555556, \"#d8576b\"], [0.6666666666666666, \"#ed7953\"], [0.7777777777777778, \"#fb9f3a\"], [0.8888888888888888, \"#fdca26\"], [1.0, \"#f0f921\"]], \"type\": \"heatmap\"}], \"heatmapgl\": [{\"colorbar\": {\"outlinewidth\": 0, \"ticks\": \"\"}, \"colorscale\": [[0.0, \"#0d0887\"], [0.1111111111111111, \"#46039f\"], [0.2222222222222222, \"#7201a8\"], [0.3333333333333333, \"#9c179e\"], [0.4444444444444444, \"#bd3786\"], [0.5555555555555556, \"#d8576b\"], [0.6666666666666666, \"#ed7953\"], [0.7777777777777778, \"#fb9f3a\"], [0.8888888888888888, \"#fdca26\"], [1.0, \"#f0f921\"]], \"type\": \"heatmapgl\"}], \"histogram\": [{\"marker\": {\"colorbar\": {\"outlinewidth\": 0, \"ticks\": \"\"}}, \"type\": \"histogram\"}], \"histogram2d\": [{\"colorbar\": {\"outlinewidth\": 0, \"ticks\": \"\"}, \"colorscale\": [[0.0, \"#0d0887\"], [0.1111111111111111, \"#46039f\"], [0.2222222222222222, \"#7201a8\"], [0.3333333333333333, \"#9c179e\"], [0.4444444444444444, \"#bd3786\"], [0.5555555555555556, \"#d8576b\"], [0.6666666666666666, \"#ed7953\"], [0.7777777777777778, \"#fb9f3a\"], [0.8888888888888888, \"#fdca26\"], [1.0, \"#f0f921\"]], \"type\": \"histogram2d\"}], \"histogram2dcontour\": [{\"colorbar\": {\"outlinewidth\": 0, \"ticks\": \"\"}, \"colorscale\": [[0.0, \"#0d0887\"], [0.1111111111111111, \"#46039f\"], [0.2222222222222222, \"#7201a8\"], [0.3333333333333333, \"#9c179e\"], [0.4444444444444444, \"#bd3786\"], [0.5555555555555556, \"#d8576b\"], [0.6666666666666666, \"#ed7953\"], [0.7777777777777778, \"#fb9f3a\"], [0.8888888888888888, \"#fdca26\"], [1.0, \"#f0f921\"]], \"type\": \"histogram2dcontour\"}], \"mesh3d\": [{\"colorbar\": {\"outlinewidth\": 0, \"ticks\": \"\"}, \"type\": \"mesh3d\"}], \"parcoords\": [{\"line\": {\"colorbar\": {\"outlinewidth\": 0, \"ticks\": \"\"}}, \"type\": \"parcoords\"}], \"pie\": [{\"automargin\": true, \"type\": \"pie\"}], \"scatter\": [{\"marker\": {\"colorbar\": {\"outlinewidth\": 0, \"ticks\": \"\"}}, \"type\": \"scatter\"}], \"scatter3d\": [{\"line\": {\"colorbar\": {\"outlinewidth\": 0, \"ticks\": \"\"}}, \"marker\": {\"colorbar\": {\"outlinewidth\": 0, \"ticks\": \"\"}}, \"type\": \"scatter3d\"}], \"scattercarpet\": [{\"marker\": {\"colorbar\": {\"outlinewidth\": 0, \"ticks\": \"\"}}, \"type\": \"scattercarpet\"}], \"scattergeo\": [{\"marker\": {\"colorbar\": {\"outlinewidth\": 0, \"ticks\": \"\"}}, \"type\": \"scattergeo\"}], \"scattergl\": [{\"marker\": {\"colorbar\": {\"outlinewidth\": 0, \"ticks\": \"\"}}, \"type\": \"scattergl\"}], \"scattermapbox\": [{\"marker\": {\"colorbar\": {\"outlinewidth\": 0, \"ticks\": \"\"}}, \"type\": \"scattermapbox\"}], \"scatterpolar\": [{\"marker\": {\"colorbar\": {\"outlinewidth\": 0, \"ticks\": \"\"}}, \"type\": \"scatterpolar\"}], \"scatterpolargl\": [{\"marker\": {\"colorbar\": {\"outlinewidth\": 0, \"ticks\": \"\"}}, \"type\": \"scatterpolargl\"}], \"scatterternary\": [{\"marker\": {\"colorbar\": {\"outlinewidth\": 0, \"ticks\": \"\"}}, \"type\": \"scatterternary\"}], \"surface\": [{\"colorbar\": {\"outlinewidth\": 0, \"ticks\": \"\"}, \"colorscale\": [[0.0, \"#0d0887\"], [0.1111111111111111, \"#46039f\"], [0.2222222222222222, \"#7201a8\"], [0.3333333333333333, \"#9c179e\"], [0.4444444444444444, \"#bd3786\"], [0.5555555555555556, \"#d8576b\"], [0.6666666666666666, \"#ed7953\"], [0.7777777777777778, \"#fb9f3a\"], [0.8888888888888888, \"#fdca26\"], [1.0, \"#f0f921\"]], \"type\": \"surface\"}], \"table\": [{\"cells\": {\"fill\": {\"color\": \"#EBF0F8\"}, \"line\": {\"color\": \"white\"}}, \"header\": {\"fill\": {\"color\": \"#C8D4E3\"}, \"line\": {\"color\": \"white\"}}, \"type\": \"table\"}]}, \"layout\": {\"annotationdefaults\": {\"arrowcolor\": \"#2a3f5f\", \"arrowhead\": 0, \"arrowwidth\": 1}, \"coloraxis\": {\"colorbar\": {\"outlinewidth\": 0, \"ticks\": \"\"}}, \"colorscale\": {\"diverging\": [[0, \"#8e0152\"], [0.1, \"#c51b7d\"], [0.2, \"#de77ae\"], [0.3, \"#f1b6da\"], [0.4, \"#fde0ef\"], [0.5, \"#f7f7f7\"], [0.6, \"#e6f5d0\"], [0.7, \"#b8e186\"], [0.8, \"#7fbc41\"], [0.9, \"#4d9221\"], [1, \"#276419\"]], \"sequential\": [[0.0, \"#0d0887\"], [0.1111111111111111, \"#46039f\"], [0.2222222222222222, \"#7201a8\"], [0.3333333333333333, \"#9c179e\"], [0.4444444444444444, \"#bd3786\"], [0.5555555555555556, \"#d8576b\"], [0.6666666666666666, \"#ed7953\"], [0.7777777777777778, \"#fb9f3a\"], [0.8888888888888888, \"#fdca26\"], [1.0, \"#f0f921\"]], \"sequentialminus\": [[0.0, \"#0d0887\"], [0.1111111111111111, \"#46039f\"], [0.2222222222222222, \"#7201a8\"], [0.3333333333333333, \"#9c179e\"], [0.4444444444444444, \"#bd3786\"], [0.5555555555555556, \"#d8576b\"], [0.6666666666666666, \"#ed7953\"], [0.7777777777777778, \"#fb9f3a\"], [0.8888888888888888, \"#fdca26\"], [1.0, \"#f0f921\"]]}, \"colorway\": [\"#636efa\", \"#EF553B\", \"#00cc96\", \"#ab63fa\", \"#FFA15A\", \"#19d3f3\", \"#FF6692\", \"#B6E880\", \"#FF97FF\", \"#FECB52\"], \"font\": {\"color\": \"#2a3f5f\"}, \"geo\": {\"bgcolor\": \"white\", \"lakecolor\": \"white\", \"landcolor\": \"#E5ECF6\", \"showlakes\": true, \"showland\": true, \"subunitcolor\": \"white\"}, \"hoverlabel\": {\"align\": \"left\"}, \"hovermode\": \"closest\", \"mapbox\": {\"style\": \"light\"}, \"paper_bgcolor\": \"white\", \"plot_bgcolor\": \"#E5ECF6\", \"polar\": {\"angularaxis\": {\"gridcolor\": \"white\", \"linecolor\": \"white\", \"ticks\": \"\"}, \"bgcolor\": \"#E5ECF6\", \"radialaxis\": {\"gridcolor\": \"white\", \"linecolor\": \"white\", \"ticks\": \"\"}}, \"scene\": {\"xaxis\": {\"backgroundcolor\": \"#E5ECF6\", \"gridcolor\": \"white\", \"gridwidth\": 2, \"linecolor\": \"white\", \"showbackground\": true, \"ticks\": \"\", \"zerolinecolor\": \"white\"}, \"yaxis\": {\"backgroundcolor\": \"#E5ECF6\", \"gridcolor\": \"white\", \"gridwidth\": 2, \"linecolor\": \"white\", \"showbackground\": true, \"ticks\": \"\", \"zerolinecolor\": \"white\"}, \"zaxis\": {\"backgroundcolor\": \"#E5ECF6\", \"gridcolor\": \"white\", \"gridwidth\": 2, \"linecolor\": \"white\", \"showbackground\": true, \"ticks\": \"\", \"zerolinecolor\": \"white\"}}, \"shapedefaults\": {\"line\": {\"color\": \"#2a3f5f\"}}, \"ternary\": {\"aaxis\": {\"gridcolor\": \"white\", \"linecolor\": \"white\", \"ticks\": \"\"}, \"baxis\": {\"gridcolor\": \"white\", \"linecolor\": \"white\", \"ticks\": \"\"}, \"bgcolor\": \"#E5ECF6\", \"caxis\": {\"gridcolor\": \"white\", \"linecolor\": \"white\", \"ticks\": \"\"}}, \"title\": {\"x\": 0.05}, \"xaxis\": {\"automargin\": true, \"gridcolor\": \"white\", \"linecolor\": \"white\", \"ticks\": \"\", \"title\": {\"standoff\": 15}, \"zerolinecolor\": \"white\", \"zerolinewidth\": 2}, \"yaxis\": {\"automargin\": true, \"gridcolor\": \"white\", \"linecolor\": \"white\", \"ticks\": \"\", \"title\": {\"standoff\": 15}, \"zerolinecolor\": \"white\", \"zerolinewidth\": 2}}}},\n",
              "                        {\"responsive\": true}\n",
              "                    ).then(function(){\n",
              "                            \n",
              "var gd = document.getElementById('4813bec3-2b4f-48f5-a4dd-1b5aa6b36496');\n",
              "var x = new MutationObserver(function (mutations, observer) {{\n",
              "        var display = window.getComputedStyle(gd).display;\n",
              "        if (!display || display === 'none') {{\n",
              "            console.log([gd, 'removed!']);\n",
              "            Plotly.purge(gd);\n",
              "            observer.disconnect();\n",
              "        }}\n",
              "}});\n",
              "\n",
              "// Listen for the removal of the full notebook cells\n",
              "var notebookContainer = gd.closest('#notebook-container');\n",
              "if (notebookContainer) {{\n",
              "    x.observe(notebookContainer, {childList: true});\n",
              "}}\n",
              "\n",
              "// Listen for the clearing of the current output cell\n",
              "var outputEl = gd.closest('.output');\n",
              "if (outputEl) {{\n",
              "    x.observe(outputEl, {childList: true});\n",
              "}}\n",
              "\n",
              "                        })\n",
              "                };\n",
              "                \n",
              "            </script>\n",
              "        </div>\n",
              "</body>\n",
              "</html>"
            ]
          },
          "metadata": {
            "tags": []
          }
        }
      ]
    },
    {
      "cell_type": "markdown",
      "metadata": {
        "id": "ws9dUf1djXEe",
        "colab_type": "text"
      },
      "source": [
        "###World Map Visualization"
      ]
    },
    {
      "cell_type": "code",
      "metadata": {
        "id": "76zSTe62T5cl",
        "colab_type": "code",
        "colab": {}
      },
      "source": [
        "def CreateMap(data,color,fill_color):\n",
        "    _map = folium.Map(location=[45,0], tiles=\"Stamen Toner\", zoom_start=3)\n",
        "    for name,cases,deaths,lat,lon in data.values:\n",
        "        folium.CircleMarker([lat,lon],radius=((int(np.log(cases + 1)))*1.5),color=color,fill_color=fill_color,\n",
        "                            tooltip = \"<h5 style='text-align:center;font-weight: bold'>\"+ name +\"</h5>\"+\n",
        "                            \"<hr style='margin:10px;'>\"+\n",
        "                            \"<ul style='color: #444;list-style-type:circle;align-item:left;padding-left:20px;padding-right:20px'>\"+\n",
        "                            \"<li>Confirmed: \"+str(cases)+\"</li>\"+\n",
        "                            \"<li>Deaths:   \"+str(deaths)+\"</li>\"+\n",
        "                            \"</ul>\",fill_opacity=0.7).add_to(_map)\n",
        "    return _map\n",
        "\n",
        "df_map_plot = pd.DataFrame()\n",
        "for i in case_confirmed.index:\n",
        "    if pd.isna(case_confirmed.loc[i,'Province/State']):\n",
        "        df_map_plot.loc[i,'location'] = case_confirmed.loc[i,'Country/Region']\n",
        "    else:\n",
        "        df_map_plot.loc[i,'location'] = str(case_confirmed.loc[i,'Province/State']) + \", \" + case_confirmed.loc[i,'Country/Region']\n",
        "    if case_confirmed.loc[i,case_confirmed.columns[-1]] < 0 :\n",
        "        df_map_plot.loc[i,'cases'] = 1\n",
        "    else:\n",
        "        df_map_plot.loc[i,'cases'] = case_confirmed.loc[i,case_confirmed.columns[-1]]\n",
        "        df_map_plot.loc[i,'deaths'] = case_deaths.loc[i,case_deaths.columns[-1]]\n",
        "    df_map_plot.loc[i,'Lat'] = str(case_confirmed.loc[i,'Lat'])\n",
        "    df_map_plot.loc[i,'Long'] = str(case_confirmed.loc[i,'Long'])\n",
        "\n",
        "df_map_plot['Lat'] = df_map_plot['Lat'].astype('float')\n",
        "df_map_plot['Long'] = df_map_plot['Long'].astype('float')\n",
        "df_map_plot['cases'] = df_map_plot['cases'].astype('int')\n",
        "df_map_plot['deaths'] = df_map_plot['deaths'].astype('int')\n",
        "\n",
        "CreateMap(df_map_plot,'#022474','#4D76D7')\n"
      ],
      "execution_count": 0,
      "outputs": []
    },
    {
      "cell_type": "markdown",
      "metadata": {
        "id": "6BRngxJxj0Bm",
        "colab_type": "text"
      },
      "source": [
        "###Race Map Visualization"
      ]
    },
    {
      "cell_type": "code",
      "metadata": {
        "id": "wqTlQ4BGOY7E",
        "colab_type": "code",
        "colab": {}
      },
      "source": [
        "case_confirmed_racemap = pd.DataFrame(case_confirmed.groupby('Country/Region').sum()).reset_index()\n",
        "case_confirmed_racemap.loc[case_confirmed_racemap['Country/Region'] == 'US','Country/Region'] = 'United States'\n",
        "case_confirmed_racemap.loc[case_confirmed_racemap['Country/Region'] == 'Korea, South','Country/Region'] = 'South Korea'\n",
        "for col in case_confirmed_racemap.columns[3:]:\n",
        "    case_confirmed_racemap.rename(columns = {col:str(pd.to_datetime(col))[0:10]},inplace = True)\n",
        "\n",
        "flags = pd.read_csv('https://raw.githubusercontent.com/AbshkPskr/Portfolio/master/Country_Flags.csv')\n",
        "flags = flags.drop('Images File Name',1).rename(columns={'Country':'Country/Region'})\n",
        "confirmed_with_flag = case_confirmed_racemap.merge(flags,on='Country/Region',how='left')\n",
        "confirmed_with_flag.to_csv('country.csv')\n",
        "files.download('country.csv')"
      ],
      "execution_count": 0,
      "outputs": []
    },
    {
      "cell_type": "code",
      "metadata": {
        "id": "jnh6mzEzUAYo",
        "colab_type": "code",
        "colab": {}
      },
      "source": [
        "%%HTML\n",
        "<div class=\"flourish-embed flourish-bar-chart-race\" data-src=\"visualisation/2059674\" data-url=\"https://flo.uri.sh/visualisation/2059674/embed\"><script src=\"https://public.flourish.studio/resources/embed.js\"></script></div>"
      ],
      "execution_count": 0,
      "outputs": []
    },
    {
      "cell_type": "markdown",
      "metadata": {
        "id": "YfcYh2urjLyT",
        "colab_type": "text"
      },
      "source": [
        "###Comparison between most effected countries \n",
        "\n",
        "Countries with more than 1 lakh cases"
      ]
    },
    {
      "cell_type": "code",
      "metadata": {
        "id": "5dJd97eYQ4NO",
        "colab_type": "code",
        "outputId": "6d3acc5b-18cf-4045-f89e-62f57ced20ee",
        "colab": {
          "base_uri": "https://localhost:8080/",
          "height": 34
        }
      },
      "source": [
        "case_data['ObservationDate'].min()"
      ],
      "execution_count": 0,
      "outputs": [
        {
          "output_type": "execute_result",
          "data": {
            "text/plain": [
              "Timestamp('2020-01-22 00:00:00')"
            ]
          },
          "metadata": {
            "tags": []
          },
          "execution_count": 44
        }
      ]
    },
    {
      "cell_type": "code",
      "metadata": {
        "id": "57oT6V2ATsd4",
        "colab_type": "code",
        "colab": {}
      },
      "source": [
        "def CreateComparisonPlot(attr):\n",
        "    case_country = case_data.groupby(['Country/Region','ObservationDate']).sum().reset_index()\n",
        "    countries = case_country[case_country['Confirmed'] > 100000]['Country/Region'].unique()\n",
        "    fig = go.Figure()\n",
        "    for i in countries:\n",
        "        one_country = case_country[(case_country['Country/Region'] == i)][['ObservationDate',attr]]\n",
        "        fig.add_trace(go.Scatter(x=case_country.index,\n",
        "                                y=one_country[attr],mode='lines',\n",
        "                                name=i,line=dict( width=4)))\n",
        "    \n",
        "    # fig.add_annotation(text=\"First case of United states\",\n",
        "    #                    x='2020-01-23', y=1, arrowhead=0, showarrow=True)\n",
        "    fig.update_layout(margin=dict(l=0,r=0,b=0,t=0,pad=0),paper_bgcolor=\"white\")#, yaxis_type=\"log\")\n",
        "    fig.layout.hovermode = 'x'\n",
        "    fig.show()"
      ],
      "execution_count": 0,
      "outputs": []
    },
    {
      "cell_type": "code",
      "metadata": {
        "id": "Gob-_Jo1L0og",
        "colab_type": "code",
        "colab": {}
      },
      "source": [
        "CreateComparisonPlot('Confirmed')"
      ],
      "execution_count": 0,
      "outputs": []
    },
    {
      "cell_type": "code",
      "metadata": {
        "id": "nWEXGZfhTwAs",
        "colab_type": "code",
        "colab": {}
      },
      "source": [
        "dCreateComparisonPlot('Deaths')"
      ],
      "execution_count": 0,
      "outputs": []
    },
    {
      "cell_type": "code",
      "metadata": {
        "id": "04mY8n4NMQqF",
        "colab_type": "code",
        "colab": {}
      },
      "source": [
        "CreateComparisonPlot('Recovered')"
      ],
      "execution_count": 0,
      "outputs": []
    },
    {
      "cell_type": "code",
      "metadata": {
        "id": "7pjlPgPsMSDa",
        "colab_type": "code",
        "colab": {}
      },
      "source": [
        "CreateComparisonPlot('new_confirmed')"
      ],
      "execution_count": 0,
      "outputs": []
    },
    {
      "cell_type": "code",
      "metadata": {
        "id": "H82juhgTMV1Y",
        "colab_type": "code",
        "colab": {}
      },
      "source": [
        "CreateComparisonPlot('new_deaths')"
      ],
      "execution_count": 0,
      "outputs": []
    },
    {
      "cell_type": "code",
      "metadata": {
        "id": "5WE1VZgzMXUA",
        "colab_type": "code",
        "colab": {}
      },
      "source": [
        "CreateComparisonPlot('new_recovered')"
      ],
      "execution_count": 0,
      "outputs": []
    },
    {
      "cell_type": "code",
      "metadata": {
        "id": "buC6iKIcAd6q",
        "colab_type": "code",
        "colab": {}
      },
      "source": [
        ""
      ],
      "execution_count": 0,
      "outputs": []
    },
    {
      "cell_type": "markdown",
      "metadata": {
        "id": "wh-K2EYuDoJH",
        "colab_type": "text"
      },
      "source": [
        "###Testing Analysis"
      ]
    },
    {
      "cell_type": "code",
      "metadata": {
        "id": "7R5C3YVDLYd8",
        "colab_type": "code",
        "colab": {}
      },
      "source": [
        "tests_data = pd.read_csv('https://raw.githubusercontent.com/owid/covid-19-data/master/public/data/testing/covid-testing-all-observations.csv')"
      ],
      "execution_count": 0,
      "outputs": []
    },
    {
      "cell_type": "code",
      "metadata": {
        "id": "8sVINW-CYxmD",
        "colab_type": "code",
        "colab": {}
      },
      "source": [
        "tests_data.drop(tests_data[tests_data[\"Entity\"] == \"India - people tested\"].index,inplace=True)\n",
        "tests_data.drop(tests_data[tests_data[\"Entity\"] == \"United Kingdom - people tested\"].index,inplace=True)\n",
        "tests_data.drop(tests_data[tests_data[\"Entity\"] == \"Singapore - people tested\"].index,inplace=True)\n",
        "tests_data.drop(tests_data[tests_data[\"Entity\"] == \"United States - specimens tested (CDC)\"].index,inplace=True)"
      ],
      "execution_count": 0,
      "outputs": []
    },
    {
      "cell_type": "code",
      "metadata": {
        "id": "cUMwpgozMBJB",
        "colab_type": "code",
        "colab": {}
      },
      "source": [
        "tests_data['Country'] = [i.split(\" - \")[0] for i in tests_data['Entity'].values]\n",
        "tests_data['Cumulative total per million'] = tests_data['Cumulative total per thousand']*1000"
      ],
      "execution_count": 0,
      "outputs": []
    },
    {
      "cell_type": "code",
      "metadata": {
        "id": "erp1WPNje6j2",
        "colab_type": "code",
        "outputId": "ad7dcb72-4025-45c2-bc77-323f0afb8728",
        "colab": {
          "base_uri": "https://localhost:8080/",
          "height": 82
        }
      },
      "source": [
        "tests_data = tests_data.groupby('Country')['Cumulative total','Cumulative total per million'].max().reset_index()"
      ],
      "execution_count": 0,
      "outputs": [
        {
          "output_type": "stream",
          "text": [
            "/usr/local/lib/python3.6/dist-packages/ipykernel_launcher.py:1: FutureWarning:\n",
            "\n",
            "Indexing with multiple keys (implicitly converted to a tuple of keys) will be deprecated, use a list instead.\n",
            "\n"
          ],
          "name": "stderr"
        }
      ]
    },
    {
      "cell_type": "code",
      "metadata": {
        "id": "W9-6evGZnk5w",
        "colab_type": "code",
        "colab": {}
      },
      "source": [
        "con = pd.DataFrame(case_confirmed.groupby('Country/Region')[case_confirmed.columns[-1]].sum()).reset_index()\n",
        "con = con.rename(columns = {'Country/Region':'Country',case_confirmed.columns[-1]:'Confirmed'})\n",
        "con.loc[(con['Country'] == 'Korea, South'),'Country'] = 'South Korea'\n",
        "con.loc[(con['Country'] == 'US'),'Country'] = 'United States'\n",
        "con.loc[(con['Country'] == 'Taiwan*'),'Country'] = 'Taiwan'\n",
        "tests_data = tests_data.merge(con,how = 'left', on = 'Country')"
      ],
      "execution_count": 0,
      "outputs": []
    },
    {
      "cell_type": "code",
      "metadata": {
        "id": "KqNNaFD9nzNQ",
        "colab_type": "code",
        "colab": {}
      },
      "source": [
        "det = pd.DataFrame(case_deaths.groupby('Country/Region')[case_confirmed.columns[-1]].sum()).reset_index()\n",
        "det = det.rename(columns = {'Country/Region':'Country',case_confirmed.columns[-1]:'Deaths'})\n",
        "det.loc[(det['Country'] == 'Korea, South'),'Country'] = 'South Korea'\n",
        "det.loc[(det['Country'] == 'US'),'Country'] = 'United States'\n",
        "det.loc[(det['Country'] == 'Taiwan*'),'Country'] = 'Taiwan'\n",
        "tests_data = tests_data.merge(det,how = 'left', on = 'Country')"
      ],
      "execution_count": 0,
      "outputs": []
    },
    {
      "cell_type": "code",
      "metadata": {
        "id": "rQ88vS8hjwo1",
        "colab_type": "code",
        "colab": {}
      },
      "source": [
        "tests_data['Mortality Rate'] = (tests_data['Deaths']/tests_data['Confirmed'])*100\n",
        "tests_data['Spread Rate'] = (tests_data['Confirmed']/tests_data['Cumulative total'])*100\n",
        "tests_data = tests_data.sort_values('Cumulative total',ascending=False).reset_index().drop('index',axis = 1).dropna()\n",
        "tests_data['Cumulative total per million'] = tests_data['Cumulative total per million'].astype('int')\n",
        "tests_data['Confirmed'] = tests_data['Confirmed'].astype('int')\n",
        "tests_data['Deaths'] = tests_data['Deaths'].astype('int')"
      ],
      "execution_count": 0,
      "outputs": []
    },
    {
      "cell_type": "code",
      "metadata": {
        "id": "iPPpQ_9SuNyt",
        "colab_type": "code",
        "colab": {}
      },
      "source": [
        "tests_data[tests_data['Cumulative total'] > 200000].style.background_gradient(cmap='BuGn',subset=['Cumulative total'])\\\n",
        ".background_gradient(cmap='bone_r',subset=['Cumulative total per million'])\\\n",
        ".background_gradient(cmap='Blues',subset=['Confirmed'])\\\n",
        ".background_gradient(cmap='Reds',subset=['Deaths'])\\\n",
        ".background_gradient(cmap='YlOrBr',subset=['Mortality Rate'])\\\n",
        ".background_gradient(cmap='Purples',subset=['Spread Rate'])"
      ],
      "execution_count": 0,
      "outputs": []
    },
    {
      "cell_type": "code",
      "metadata": {
        "id": "xmh5bJnaN8LW",
        "colab_type": "code",
        "colab": {}
      },
      "source": [
        "tests = tests_data.head(40)\n",
        "\n",
        "fig = go.Figure()\n",
        "fig.add_trace(go.Bar(x=tests['Country'],y=tests['Cumulative total'],\n",
        "                     text=tests['Confirmed'],name='Confirmed',marker= { 'color': 'rgb(47,138,0)'}))\n",
        "fig.update_layout(margin=dict(l=0,r=20,b=0,t=30,pad=0),paper_bgcolor=\"white\",)\n",
        "fig.layout.hovermode = 'x'\n",
        "fig.show()"
      ],
      "execution_count": 0,
      "outputs": []
    },
    {
      "cell_type": "code",
      "metadata": {
        "id": "Bp6r_ojsCHx9",
        "colab_type": "code",
        "colab": {}
      },
      "source": [
        "tests_per_million = tests_data.sort_values('Cumulative total per million',ascending = False).head(40)\n",
        "\n",
        "fig = go.Figure()\n",
        "fig.add_trace(go.Bar(x=tests_per_million['Country'],y=tests_per_million['Cumulative total per million'],\n",
        "                     name='Confirmed',marker= { 'color': 'rgb(105,67,144)'}))\n",
        "fig.update_layout(margin=dict(l=0,r=20,b=0,t=30,pad=0),paper_bgcolor=\"white\",)\n",
        "fig.layout.hovermode = 'x'\n",
        "fig.show()"
      ],
      "execution_count": 0,
      "outputs": []
    },
    {
      "cell_type": "code",
      "metadata": {
        "id": "Qbh2Y5archtr",
        "colab_type": "code",
        "colab": {}
      },
      "source": [
        "tests_comparison = tests_data.head(40)\n",
        "\n",
        "fig = go.Figure()\n",
        "fig = go.Figure()\n",
        "fig.add_trace(go.Bar(x=tests_comparison['Country'],y=tests['Cumulative total'],\n",
        "                     name = 'Total Tests',marker= { 'color': 'rgb(47,138,0)'}))\n",
        "fig.add_trace(go.Bar(x=tests_comparison['Country'],y=tests['Cumulative total per million'],\n",
        "                     name = 'Tests per million',marker= { 'color': 'rgb(105,67,144)'}))\n",
        "fig.update_layout(margin=dict(l=0,r=20,b=0,t=30,pad=0),paper_bgcolor=\"white\",yaxis_type=\"log\")\n",
        "fig.layout.hovermode = 'x'\n",
        "fig.show()"
      ],
      "execution_count": 0,
      "outputs": []
    },
    {
      "cell_type": "code",
      "metadata": {
        "id": "sV7jNHUKjE2r",
        "colab_type": "code",
        "colab": {}
      },
      "source": [
        "tests_mortality = tests_data.sort_values('Mortality Rate',ascending = False).head(40)\n",
        "\n",
        "\n",
        "fig = go.Figure()\n",
        "fig = go.Figure()\n",
        "fig.add_trace(go.Bar(x=tests_mortality['Country'],y=tests_mortality['Mortality Rate'],\n",
        "                     name = 'Total Tests',marker= { 'color': 'rgb(183,187,0)'}))\n",
        "fig.update_layout(margin=dict(l=0,r=20,b=0,t=30,pad=0),paper_bgcolor=\"white\")\n",
        "fig.layout.hovermode = 'x'\n",
        "fig.show()"
      ],
      "execution_count": 0,
      "outputs": []
    },
    {
      "cell_type": "code",
      "metadata": {
        "id": "eSZrsumulJZF",
        "colab_type": "code",
        "colab": {}
      },
      "source": [
        "tests_spread = tests_data.sort_values('Spread Rate',ascending = False).head(40)\n",
        "\n",
        "\n",
        "fig = go.Figure()\n",
        "fig = go.Figure()\n",
        "fig.add_trace(go.Bar(x=tests_spread['Country'],y=tests_spread['Spread Rate'],\n",
        "                     name = 'Total Tests',marker= { 'color': 'rgb(185,70,188)'}))\n",
        "fig.update_layout(margin=dict(l=0,r=20,b=0,t=30,pad=0),paper_bgcolor=\"white\")\n",
        "fig.layout.hovermode = 'x'\n",
        "fig.show()"
      ],
      "execution_count": 0,
      "outputs": []
    },
    {
      "cell_type": "markdown",
      "metadata": {
        "id": "RBwEVGTCjm7e",
        "colab_type": "text"
      },
      "source": [
        "###Spread rate comparison"
      ]
    },
    {
      "cell_type": "code",
      "metadata": {
        "id": "LLdB3oSGM3sO",
        "colab_type": "code",
        "colab": {}
      },
      "source": [
        "import requests\n",
        "from bs4 import BeautifulSoup\n",
        "url = \"https://www.worldometers.info/coronavirus/\"\n",
        "webpage = requests.get(url)\n",
        "webpage.text\n",
        "soup = BeautifulSoup(webpage.text, 'html.parser')\n",
        "# print(soup.prettify())\n",
        "\n",
        "myTable = soup.find('table')\n",
        "\n",
        "flag = False\n",
        "table = []\n",
        "for i in myTable.findAll('td'):\n",
        "    if i.text == 'Total:':\n",
        "        flag = False\n",
        "    if flag == True:\n",
        "        table.append(i.text)\n",
        "    if i.text == 'All':\n",
        "        flag = True\n",
        "\n",
        "country = []\n",
        "total_cases = []\n",
        "total_tests = []\n",
        "spread_rate = []\n",
        "\n",
        "for i in range(0,len(table),13):\n",
        "    try:\n",
        "        case =int(float(table[i+1].replace(',', '')))\n",
        "    except:\n",
        "        case = 0\n",
        "    try:\n",
        "        test =int(float(table[i+10].replace(',', '')))\n",
        "    except:\n",
        "        test = 0\n",
        "    try:\n",
        "        rate = case/test\n",
        "    except:\n",
        "        rate = np.nan\n",
        "    if rate > 1: continue\n",
        "    #if case < 50000: continue\n",
        "    country.append(table[i])\n",
        "    total_cases.append(case)\n",
        "    total_tests.append(test)\n",
        "    spread_rate.append(rate)\n",
        "\n",
        "country_tests = pd.DataFrame({'country':country,'total_cases':total_cases,\n",
        "                              'total_tests':total_tests,'spread_rate':spread_rate})"
      ],
      "execution_count": 0,
      "outputs": []
    },
    {
      "cell_type": "code",
      "metadata": {
        "id": "M-Dalk8WNG1M",
        "colab_type": "code",
        "colab": {}
      },
      "source": [
        "country_tests = country_tests.sort_values('spread_rate',ascending=False)\n",
        "fig = go.Figure().add_trace(go.Bar(x=country_tests['country'],y=country_tests['spread_rate'],marker_color='rgba(0, 41, 154, .8)'))\n",
        "fig.update_layout(margin=dict(l=0,r=20,b=0,t=50,pad=0),paper_bgcolor=\"white\",title_text = 'Number of CoronaVirus Cases worldwide',)\n",
        "fig.layout.hovermode = 'x'\n",
        "fig.show()"
      ],
      "execution_count": 0,
      "outputs": []
    },
    {
      "cell_type": "code",
      "metadata": {
        "id": "wD-hoyZ15ady",
        "colab_type": "code",
        "colab": {}
      },
      "source": [
        ""
      ],
      "execution_count": 0,
      "outputs": []
    },
    {
      "cell_type": "markdown",
      "metadata": {
        "id": "wi7EK1KP9nTn",
        "colab_type": "text"
      },
      "source": [
        "###Age Analysis"
      ]
    },
    {
      "cell_type": "code",
      "metadata": {
        "id": "GK9IO-Mj9-pW",
        "colab_type": "code",
        "colab": {}
      },
      "source": [
        "covid_data = pd.read_csv(\"COVID19_line_list_data.csv\")"
      ],
      "execution_count": 0,
      "outputs": []
    },
    {
      "cell_type": "code",
      "metadata": {
        "id": "QMJYuJ7ZT3Ml",
        "colab_type": "code",
        "colab": {}
      },
      "source": [
        "covid_data['death'] = [0 if i == '0' else 1 for i in covid_data.death]"
      ],
      "execution_count": 0,
      "outputs": []
    },
    {
      "cell_type": "code",
      "metadata": {
        "id": "tsyBGuSsECDD",
        "colab_type": "code",
        "colab": {}
      },
      "source": [
        "for i in covid_data.index:\n",
        "    age = covid_data.loc[covid_data.index == i,'age']\n",
        "    try:\n",
        "        age = int(age)\n",
        "    except:\n",
        "        continue\n",
        "    if age <= 10: covid_data.loc[covid_data.index == i,'age'] = '1-10'\n",
        "    if 11 <= age <= 20: covid_data.loc[covid_data.index == i,'age'] = '11-20'\n",
        "    if 21 <= age <= 30: covid_data.loc[covid_data.index == i,'age'] = '21-30'\n",
        "    if 31 <= age <= 40: covid_data.loc[covid_data.index == i,'age'] = '31-40'\n",
        "    if 41 <= age <= 50: covid_data.loc[covid_data.index == i,'age'] = '41-50'\n",
        "    if 51 <= age <= 60: covid_data.loc[covid_data.index == i,'age'] = '51-60'\n",
        "    if 61 <= age <= 70: covid_data.loc[covid_data.index == i,'age'] = '61-70'\n",
        "    if age > 70: covid_data.loc[covid_data.index == i,'age'] = '70+'"
      ],
      "execution_count": 0,
      "outputs": []
    },
    {
      "cell_type": "code",
      "metadata": {
        "id": "QLj4ZOiq_0sQ",
        "colab_type": "code",
        "colab": {}
      },
      "source": [
        "a = pd.DataFrame(covid_data[covid_data['death'] == 1]).groupby('age').size().reset_index(name = 'a')\n",
        "# sns.countplot(a)\n",
        "a\n"
      ],
      "execution_count": 0,
      "outputs": []
    },
    {
      "cell_type": "code",
      "metadata": {
        "id": "PR_EgZAPEIhb",
        "colab_type": "code",
        "colab": {}
      },
      "source": [
        "fig = go.Figure().add_trace(go.Pie(values=a.a,labels= a.age,hole = .5))\n",
        "fig.update_layout(margin=dict(l=0,r=20,b=0,t=50,pad=0),paper_bgcolor=\"white\",title_text = 'Number of CoronaVirus Cases worldwide',)\n",
        "fig.layout.hovermode = 'x'\n",
        "fig.show()"
      ],
      "execution_count": 0,
      "outputs": []
    },
    {
      "cell_type": "markdown",
      "metadata": {
        "id": "K2K8EW2TJvYS",
        "colab_type": "text"
      },
      "source": [
        "###Weather Analysis"
      ]
    },
    {
      "cell_type": "code",
      "metadata": {
        "id": "z62zA4-GLRLW",
        "colab_type": "code",
        "colab": {}
      },
      "source": [
        "d = pd.read_csv('https://download.data.world/file_download/data-society/global-climate-change-data/GlobalLandTemperatures%2FGlobalLandTemperaturesByCountry.csv')"
      ],
      "execution_count": 0,
      "outputs": []
    },
    {
      "cell_type": "code",
      "metadata": {
        "id": "Ctx0sDjRNqF_",
        "colab_type": "code",
        "colab": {}
      },
      "source": [
        "d"
      ],
      "execution_count": 0,
      "outputs": []
    },
    {
      "cell_type": "markdown",
      "metadata": {
        "id": "8_tTF-7WkAKu",
        "colab_type": "text"
      },
      "source": [
        "###Extra"
      ]
    },
    {
      "cell_type": "code",
      "metadata": {
        "id": "d3wALvavNf1W",
        "colab_type": "code",
        "colab": {}
      },
      "source": [
        "import plotly.io as pio\n",
        "pio.show(fig)#, file='index.html', auto_open=True)"
      ],
      "execution_count": 0,
      "outputs": []
    },
    {
      "cell_type": "code",
      "metadata": {
        "id": "6Al0g5rYZdVr",
        "colab_type": "code",
        "outputId": "837a03f3-3af8-4a31-a413-bdc1b166ab08",
        "colab": {
          "base_uri": "https://localhost:8080/",
          "height": 50
        }
      },
      "source": [
        "!jupyter nbconvert --to html COVID_19_Analysis.ipynb"
      ],
      "execution_count": 11,
      "outputs": [
        {
          "output_type": "stream",
          "text": [
            "[NbConvertApp] Converting notebook COVID_19_Analysis.ipynb to html\n",
            "[NbConvertApp] Writing 716711 bytes to COVID_19_Analysis.html\n"
          ],
          "name": "stdout"
        }
      ]
    },
    {
      "cell_type": "code",
      "metadata": {
        "id": "aMObLJegreJe",
        "colab_type": "code",
        "colab": {}
      },
      "source": [
        "HTML(\"https://raw.githubusercontent.com/AbshkPskr/Portfolio/master/index.html\") "
      ],
      "execution_count": 0,
      "outputs": []
    },
    {
      "cell_type": "code",
      "metadata": {
        "id": "noRLen0MWYu2",
        "colab_type": "code",
        "colab": {}
      },
      "source": [
        ""
      ],
      "execution_count": 0,
      "outputs": []
    }
  ]
}